{
 "cells": [
  {
   "cell_type": "code",
   "execution_count": 1,
   "metadata": {},
   "outputs": [],
   "source": [
    "import io\n",
    "import requests\n",
    "import datetime\n",
    "import pandas as pd\n",
    "import numpy as np\n",
    "import matplotlib.pyplot as plt\n",
    "%matplotlib inline"
   ]
  },
  {
   "cell_type": "markdown",
   "metadata": {},
   "source": [
    "### 台股大盤指數資料datafr(2015/04/30-2019/04/29)"
   ]
  },
  {
   "cell_type": "code",
   "execution_count": 2,
   "metadata": {},
   "outputs": [],
   "source": [
    "tw = pd.read_csv('TSEC_weighted_index.csv')"
   ]
  },
  {
   "cell_type": "code",
   "execution_count": 3,
   "metadata": {},
   "outputs": [
    {
     "data": {
      "text/html": [
       "<div>\n",
       "<style scoped>\n",
       "    .dataframe tbody tr th:only-of-type {\n",
       "        vertical-align: middle;\n",
       "    }\n",
       "\n",
       "    .dataframe tbody tr th {\n",
       "        vertical-align: top;\n",
       "    }\n",
       "\n",
       "    .dataframe thead th {\n",
       "        text-align: right;\n",
       "    }\n",
       "</style>\n",
       "<table border=\"1\" class=\"dataframe\">\n",
       "  <thead>\n",
       "    <tr style=\"text-align: right;\">\n",
       "      <th></th>\n",
       "      <th>Date</th>\n",
       "      <th>Open</th>\n",
       "      <th>High</th>\n",
       "      <th>Low</th>\n",
       "      <th>Close</th>\n",
       "      <th>Adj Close</th>\n",
       "      <th>Volume</th>\n",
       "    </tr>\n",
       "  </thead>\n",
       "  <tbody>\n",
       "    <tr>\n",
       "      <th>0</th>\n",
       "      <td>2015-04-30</td>\n",
       "      <td>9841.150391</td>\n",
       "      <td>9894.900391</td>\n",
       "      <td>9820.049805</td>\n",
       "      <td>9820.049805</td>\n",
       "      <td>9820.012695</td>\n",
       "      <td>2644700.0</td>\n",
       "    </tr>\n",
       "    <tr>\n",
       "      <th>1</th>\n",
       "      <td>2015-05-04</td>\n",
       "      <td>9853.509766</td>\n",
       "      <td>9871.650391</td>\n",
       "      <td>9800.480469</td>\n",
       "      <td>9845.040039</td>\n",
       "      <td>9845.002930</td>\n",
       "      <td>2298800.0</td>\n",
       "    </tr>\n",
       "    <tr>\n",
       "      <th>2</th>\n",
       "      <td>2015-05-05</td>\n",
       "      <td>9849.129883</td>\n",
       "      <td>9855.639648</td>\n",
       "      <td>9788.129883</td>\n",
       "      <td>9820.129883</td>\n",
       "      <td>9820.092773</td>\n",
       "      <td>2134800.0</td>\n",
       "    </tr>\n",
       "    <tr>\n",
       "      <th>3</th>\n",
       "      <td>2015-05-06</td>\n",
       "      <td>9780.389648</td>\n",
       "      <td>9829.429688</td>\n",
       "      <td>9735.940430</td>\n",
       "      <td>9818.200195</td>\n",
       "      <td>9818.163086</td>\n",
       "      <td>2353700.0</td>\n",
       "    </tr>\n",
       "    <tr>\n",
       "      <th>4</th>\n",
       "      <td>2015-05-07</td>\n",
       "      <td>9789.820313</td>\n",
       "      <td>9789.820313</td>\n",
       "      <td>9704.110352</td>\n",
       "      <td>9704.110352</td>\n",
       "      <td>9704.073242</td>\n",
       "      <td>2315900.0</td>\n",
       "    </tr>\n",
       "  </tbody>\n",
       "</table>\n",
       "</div>"
      ],
      "text/plain": [
       "         Date         Open         High          Low        Close  \\\n",
       "0  2015-04-30  9841.150391  9894.900391  9820.049805  9820.049805   \n",
       "1  2015-05-04  9853.509766  9871.650391  9800.480469  9845.040039   \n",
       "2  2015-05-05  9849.129883  9855.639648  9788.129883  9820.129883   \n",
       "3  2015-05-06  9780.389648  9829.429688  9735.940430  9818.200195   \n",
       "4  2015-05-07  9789.820313  9789.820313  9704.110352  9704.110352   \n",
       "\n",
       "     Adj Close     Volume  \n",
       "0  9820.012695  2644700.0  \n",
       "1  9845.002930  2298800.0  \n",
       "2  9820.092773  2134800.0  \n",
       "3  9818.163086  2353700.0  \n",
       "4  9704.073242  2315900.0  "
      ]
     },
     "execution_count": 3,
     "metadata": {},
     "output_type": "execute_result"
    }
   ],
   "source": [
    "tw.head()"
   ]
  },
  {
   "cell_type": "code",
   "execution_count": 4,
   "metadata": {},
   "outputs": [
    {
     "data": {
      "text/html": [
       "<div>\n",
       "<style scoped>\n",
       "    .dataframe tbody tr th:only-of-type {\n",
       "        vertical-align: middle;\n",
       "    }\n",
       "\n",
       "    .dataframe tbody tr th {\n",
       "        vertical-align: top;\n",
       "    }\n",
       "\n",
       "    .dataframe thead th {\n",
       "        text-align: right;\n",
       "    }\n",
       "</style>\n",
       "<table border=\"1\" class=\"dataframe\">\n",
       "  <thead>\n",
       "    <tr style=\"text-align: right;\">\n",
       "      <th></th>\n",
       "      <th>Date</th>\n",
       "      <th>Open</th>\n",
       "      <th>High</th>\n",
       "      <th>Low</th>\n",
       "      <th>Close</th>\n",
       "      <th>Adj Close</th>\n",
       "      <th>Volume</th>\n",
       "    </tr>\n",
       "  </thead>\n",
       "  <tbody>\n",
       "    <tr>\n",
       "      <th>977</th>\n",
       "      <td>2019-04-23</td>\n",
       "      <td>10994.280273</td>\n",
       "      <td>11025.679688</td>\n",
       "      <td>10949.299805</td>\n",
       "      <td>11025.679688</td>\n",
       "      <td>11025.679688</td>\n",
       "      <td>1.937303e+09</td>\n",
       "    </tr>\n",
       "    <tr>\n",
       "      <th>978</th>\n",
       "      <td>2019-04-24</td>\n",
       "      <td>11054.019531</td>\n",
       "      <td>11070.849609</td>\n",
       "      <td>10995.830078</td>\n",
       "      <td>11027.639648</td>\n",
       "      <td>11027.639648</td>\n",
       "      <td>2.093864e+09</td>\n",
       "    </tr>\n",
       "    <tr>\n",
       "      <th>979</th>\n",
       "      <td>2019-04-25</td>\n",
       "      <td>11017.730469</td>\n",
       "      <td>11046.769531</td>\n",
       "      <td>11006.679688</td>\n",
       "      <td>11039.860352</td>\n",
       "      <td>11039.860352</td>\n",
       "      <td>2.137391e+09</td>\n",
       "    </tr>\n",
       "    <tr>\n",
       "      <th>980</th>\n",
       "      <td>2019-04-26</td>\n",
       "      <td>10986.530273</td>\n",
       "      <td>10986.530273</td>\n",
       "      <td>10906.440430</td>\n",
       "      <td>10952.469727</td>\n",
       "      <td>10952.469727</td>\n",
       "      <td>2.109398e+09</td>\n",
       "    </tr>\n",
       "    <tr>\n",
       "      <th>981</th>\n",
       "      <td>2019-04-29</td>\n",
       "      <td>10952.910156</td>\n",
       "      <td>10992.549805</td>\n",
       "      <td>10905.780273</td>\n",
       "      <td>10939.059570</td>\n",
       "      <td>10939.059570</td>\n",
       "      <td>2.060935e+09</td>\n",
       "    </tr>\n",
       "  </tbody>\n",
       "</table>\n",
       "</div>"
      ],
      "text/plain": [
       "           Date          Open          High           Low         Close  \\\n",
       "977  2019-04-23  10994.280273  11025.679688  10949.299805  11025.679688   \n",
       "978  2019-04-24  11054.019531  11070.849609  10995.830078  11027.639648   \n",
       "979  2019-04-25  11017.730469  11046.769531  11006.679688  11039.860352   \n",
       "980  2019-04-26  10986.530273  10986.530273  10906.440430  10952.469727   \n",
       "981  2019-04-29  10952.910156  10992.549805  10905.780273  10939.059570   \n",
       "\n",
       "        Adj Close        Volume  \n",
       "977  11025.679688  1.937303e+09  \n",
       "978  11027.639648  2.093864e+09  \n",
       "979  11039.860352  2.137391e+09  \n",
       "980  10952.469727  2.109398e+09  \n",
       "981  10939.059570  2.060935e+09  "
      ]
     },
     "execution_count": 4,
     "metadata": {},
     "output_type": "execute_result"
    }
   ],
   "source": [
    "tw.tail()"
   ]
  },
  {
   "cell_type": "markdown",
   "metadata": {},
   "source": [
    "### VIX指數資料dataframe(2015/04/30-2019/04/30)"
   ]
  },
  {
   "cell_type": "code",
   "execution_count": 5,
   "metadata": {},
   "outputs": [],
   "source": [
    "vix = pd.read_csv('^VIX.csv')\n",
    "vix = vix.drop([0])"
   ]
  },
  {
   "cell_type": "code",
   "execution_count": 6,
   "metadata": {},
   "outputs": [
    {
     "data": {
      "text/html": [
       "<div>\n",
       "<style scoped>\n",
       "    .dataframe tbody tr th:only-of-type {\n",
       "        vertical-align: middle;\n",
       "    }\n",
       "\n",
       "    .dataframe tbody tr th {\n",
       "        vertical-align: top;\n",
       "    }\n",
       "\n",
       "    .dataframe thead th {\n",
       "        text-align: right;\n",
       "    }\n",
       "</style>\n",
       "<table border=\"1\" class=\"dataframe\">\n",
       "  <thead>\n",
       "    <tr style=\"text-align: right;\">\n",
       "      <th></th>\n",
       "      <th>Date</th>\n",
       "      <th>Open</th>\n",
       "      <th>High</th>\n",
       "      <th>Low</th>\n",
       "      <th>Close</th>\n",
       "      <th>Adj Close</th>\n",
       "      <th>Volume</th>\n",
       "    </tr>\n",
       "  </thead>\n",
       "  <tbody>\n",
       "    <tr>\n",
       "      <th>1</th>\n",
       "      <td>2015-04-30</td>\n",
       "      <td>13.89</td>\n",
       "      <td>15.290000</td>\n",
       "      <td>12.49</td>\n",
       "      <td>14.55</td>\n",
       "      <td>14.55</td>\n",
       "      <td>0</td>\n",
       "    </tr>\n",
       "    <tr>\n",
       "      <th>2</th>\n",
       "      <td>2015-05-01</td>\n",
       "      <td>13.98</td>\n",
       "      <td>13.980000</td>\n",
       "      <td>12.68</td>\n",
       "      <td>12.70</td>\n",
       "      <td>12.70</td>\n",
       "      <td>0</td>\n",
       "    </tr>\n",
       "    <tr>\n",
       "      <th>3</th>\n",
       "      <td>2015-05-04</td>\n",
       "      <td>13.12</td>\n",
       "      <td>13.180000</td>\n",
       "      <td>12.10</td>\n",
       "      <td>12.85</td>\n",
       "      <td>12.85</td>\n",
       "      <td>0</td>\n",
       "    </tr>\n",
       "    <tr>\n",
       "      <th>4</th>\n",
       "      <td>2015-05-05</td>\n",
       "      <td>13.21</td>\n",
       "      <td>14.410000</td>\n",
       "      <td>12.97</td>\n",
       "      <td>14.31</td>\n",
       "      <td>14.31</td>\n",
       "      <td>0</td>\n",
       "    </tr>\n",
       "    <tr>\n",
       "      <th>5</th>\n",
       "      <td>2015-05-06</td>\n",
       "      <td>13.93</td>\n",
       "      <td>16.360001</td>\n",
       "      <td>13.89</td>\n",
       "      <td>15.15</td>\n",
       "      <td>15.15</td>\n",
       "      <td>0</td>\n",
       "    </tr>\n",
       "  </tbody>\n",
       "</table>\n",
       "</div>"
      ],
      "text/plain": [
       "         Date   Open       High    Low  Close  Adj Close  Volume\n",
       "1  2015-04-30  13.89  15.290000  12.49  14.55      14.55       0\n",
       "2  2015-05-01  13.98  13.980000  12.68  12.70      12.70       0\n",
       "3  2015-05-04  13.12  13.180000  12.10  12.85      12.85       0\n",
       "4  2015-05-05  13.21  14.410000  12.97  14.31      14.31       0\n",
       "5  2015-05-06  13.93  16.360001  13.89  15.15      15.15       0"
      ]
     },
     "execution_count": 6,
     "metadata": {},
     "output_type": "execute_result"
    }
   ],
   "source": [
    "vix.head()"
   ]
  },
  {
   "cell_type": "code",
   "execution_count": 7,
   "metadata": {},
   "outputs": [
    {
     "data": {
      "text/html": [
       "<div>\n",
       "<style scoped>\n",
       "    .dataframe tbody tr th:only-of-type {\n",
       "        vertical-align: middle;\n",
       "    }\n",
       "\n",
       "    .dataframe tbody tr th {\n",
       "        vertical-align: top;\n",
       "    }\n",
       "\n",
       "    .dataframe thead th {\n",
       "        text-align: right;\n",
       "    }\n",
       "</style>\n",
       "<table border=\"1\" class=\"dataframe\">\n",
       "  <thead>\n",
       "    <tr style=\"text-align: right;\">\n",
       "      <th></th>\n",
       "      <th>Date</th>\n",
       "      <th>Open</th>\n",
       "      <th>High</th>\n",
       "      <th>Low</th>\n",
       "      <th>Close</th>\n",
       "      <th>Adj Close</th>\n",
       "      <th>Volume</th>\n",
       "    </tr>\n",
       "  </thead>\n",
       "  <tbody>\n",
       "    <tr>\n",
       "      <th>1002</th>\n",
       "      <td>2019-04-23</td>\n",
       "      <td>12.66</td>\n",
       "      <td>12.69</td>\n",
       "      <td>12.08</td>\n",
       "      <td>12.28</td>\n",
       "      <td>12.28</td>\n",
       "      <td>0</td>\n",
       "    </tr>\n",
       "    <tr>\n",
       "      <th>1003</th>\n",
       "      <td>2019-04-24</td>\n",
       "      <td>12.53</td>\n",
       "      <td>13.23</td>\n",
       "      <td>12.26</td>\n",
       "      <td>13.14</td>\n",
       "      <td>13.14</td>\n",
       "      <td>0</td>\n",
       "    </tr>\n",
       "    <tr>\n",
       "      <th>1004</th>\n",
       "      <td>2019-04-25</td>\n",
       "      <td>13.29</td>\n",
       "      <td>14.30</td>\n",
       "      <td>12.81</td>\n",
       "      <td>13.25</td>\n",
       "      <td>13.25</td>\n",
       "      <td>0</td>\n",
       "    </tr>\n",
       "    <tr>\n",
       "      <th>1005</th>\n",
       "      <td>2019-04-26</td>\n",
       "      <td>13.44</td>\n",
       "      <td>13.62</td>\n",
       "      <td>12.49</td>\n",
       "      <td>12.73</td>\n",
       "      <td>12.73</td>\n",
       "      <td>0</td>\n",
       "    </tr>\n",
       "    <tr>\n",
       "      <th>1006</th>\n",
       "      <td>2019-04-29</td>\n",
       "      <td>13.04</td>\n",
       "      <td>13.27</td>\n",
       "      <td>12.65</td>\n",
       "      <td>13.11</td>\n",
       "      <td>13.11</td>\n",
       "      <td>0</td>\n",
       "    </tr>\n",
       "  </tbody>\n",
       "</table>\n",
       "</div>"
      ],
      "text/plain": [
       "            Date   Open   High    Low  Close  Adj Close  Volume\n",
       "1002  2019-04-23  12.66  12.69  12.08  12.28      12.28       0\n",
       "1003  2019-04-24  12.53  13.23  12.26  13.14      13.14       0\n",
       "1004  2019-04-25  13.29  14.30  12.81  13.25      13.25       0\n",
       "1005  2019-04-26  13.44  13.62  12.49  12.73      12.73       0\n",
       "1006  2019-04-29  13.04  13.27  12.65  13.11      13.11       0"
      ]
     },
     "execution_count": 7,
     "metadata": {},
     "output_type": "execute_result"
    }
   ],
   "source": [
    "vix.tail()"
   ]
  },
  {
   "cell_type": "markdown",
   "metadata": {},
   "source": [
    "### 合併dataframe，這樣就可以去除vix比tw多的資料（台股營業日跟vix不一樣）"
   ]
  },
  {
   "cell_type": "code",
   "execution_count": 8,
   "metadata": {},
   "outputs": [],
   "source": [
    "newdf = pd.concat([tw,vix], join='outer', axis=1)"
   ]
  },
  {
   "cell_type": "code",
   "execution_count": 9,
   "metadata": {},
   "outputs": [],
   "source": [
    "new_tw = newdf.iloc[:,[0,1,2,3,4,5,6]]\n",
    "new_vix = newdf.iloc[:,[7,8,9,10,11,12,13]]"
   ]
  },
  {
   "cell_type": "code",
   "execution_count": 10,
   "metadata": {},
   "outputs": [
    {
     "data": {
      "text/html": [
       "<div>\n",
       "<style scoped>\n",
       "    .dataframe tbody tr th:only-of-type {\n",
       "        vertical-align: middle;\n",
       "    }\n",
       "\n",
       "    .dataframe tbody tr th {\n",
       "        vertical-align: top;\n",
       "    }\n",
       "\n",
       "    .dataframe thead th {\n",
       "        text-align: right;\n",
       "    }\n",
       "</style>\n",
       "<table border=\"1\" class=\"dataframe\">\n",
       "  <thead>\n",
       "    <tr style=\"text-align: right;\">\n",
       "      <th></th>\n",
       "      <th>Date</th>\n",
       "      <th>Open</th>\n",
       "      <th>High</th>\n",
       "      <th>Low</th>\n",
       "      <th>Close</th>\n",
       "      <th>Adj Close</th>\n",
       "      <th>Volume</th>\n",
       "    </tr>\n",
       "  </thead>\n",
       "  <tbody>\n",
       "    <tr>\n",
       "      <th>1002</th>\n",
       "      <td>NaN</td>\n",
       "      <td>NaN</td>\n",
       "      <td>NaN</td>\n",
       "      <td>NaN</td>\n",
       "      <td>NaN</td>\n",
       "      <td>NaN</td>\n",
       "      <td>NaN</td>\n",
       "    </tr>\n",
       "    <tr>\n",
       "      <th>1003</th>\n",
       "      <td>NaN</td>\n",
       "      <td>NaN</td>\n",
       "      <td>NaN</td>\n",
       "      <td>NaN</td>\n",
       "      <td>NaN</td>\n",
       "      <td>NaN</td>\n",
       "      <td>NaN</td>\n",
       "    </tr>\n",
       "    <tr>\n",
       "      <th>1004</th>\n",
       "      <td>NaN</td>\n",
       "      <td>NaN</td>\n",
       "      <td>NaN</td>\n",
       "      <td>NaN</td>\n",
       "      <td>NaN</td>\n",
       "      <td>NaN</td>\n",
       "      <td>NaN</td>\n",
       "    </tr>\n",
       "    <tr>\n",
       "      <th>1005</th>\n",
       "      <td>NaN</td>\n",
       "      <td>NaN</td>\n",
       "      <td>NaN</td>\n",
       "      <td>NaN</td>\n",
       "      <td>NaN</td>\n",
       "      <td>NaN</td>\n",
       "      <td>NaN</td>\n",
       "    </tr>\n",
       "    <tr>\n",
       "      <th>1006</th>\n",
       "      <td>NaN</td>\n",
       "      <td>NaN</td>\n",
       "      <td>NaN</td>\n",
       "      <td>NaN</td>\n",
       "      <td>NaN</td>\n",
       "      <td>NaN</td>\n",
       "      <td>NaN</td>\n",
       "    </tr>\n",
       "  </tbody>\n",
       "</table>\n",
       "</div>"
      ],
      "text/plain": [
       "     Date  Open  High  Low  Close  Adj Close  Volume\n",
       "1002  NaN   NaN   NaN  NaN    NaN        NaN     NaN\n",
       "1003  NaN   NaN   NaN  NaN    NaN        NaN     NaN\n",
       "1004  NaN   NaN   NaN  NaN    NaN        NaN     NaN\n",
       "1005  NaN   NaN   NaN  NaN    NaN        NaN     NaN\n",
       "1006  NaN   NaN   NaN  NaN    NaN        NaN     NaN"
      ]
     },
     "execution_count": 10,
     "metadata": {},
     "output_type": "execute_result"
    }
   ],
   "source": [
    "new_tw.tail()"
   ]
  },
  {
   "cell_type": "code",
   "execution_count": 11,
   "metadata": {},
   "outputs": [
    {
     "data": {
      "text/html": [
       "<div>\n",
       "<style scoped>\n",
       "    .dataframe tbody tr th:only-of-type {\n",
       "        vertical-align: middle;\n",
       "    }\n",
       "\n",
       "    .dataframe tbody tr th {\n",
       "        vertical-align: top;\n",
       "    }\n",
       "\n",
       "    .dataframe thead th {\n",
       "        text-align: right;\n",
       "    }\n",
       "</style>\n",
       "<table border=\"1\" class=\"dataframe\">\n",
       "  <thead>\n",
       "    <tr style=\"text-align: right;\">\n",
       "      <th></th>\n",
       "      <th>Date</th>\n",
       "      <th>Open</th>\n",
       "      <th>High</th>\n",
       "      <th>Low</th>\n",
       "      <th>Close</th>\n",
       "      <th>Adj Close</th>\n",
       "      <th>Volume</th>\n",
       "    </tr>\n",
       "  </thead>\n",
       "  <tbody>\n",
       "    <tr>\n",
       "      <th>1002</th>\n",
       "      <td>2019-04-23</td>\n",
       "      <td>12.66</td>\n",
       "      <td>12.69</td>\n",
       "      <td>12.08</td>\n",
       "      <td>12.28</td>\n",
       "      <td>12.28</td>\n",
       "      <td>0.0</td>\n",
       "    </tr>\n",
       "    <tr>\n",
       "      <th>1003</th>\n",
       "      <td>2019-04-24</td>\n",
       "      <td>12.53</td>\n",
       "      <td>13.23</td>\n",
       "      <td>12.26</td>\n",
       "      <td>13.14</td>\n",
       "      <td>13.14</td>\n",
       "      <td>0.0</td>\n",
       "    </tr>\n",
       "    <tr>\n",
       "      <th>1004</th>\n",
       "      <td>2019-04-25</td>\n",
       "      <td>13.29</td>\n",
       "      <td>14.30</td>\n",
       "      <td>12.81</td>\n",
       "      <td>13.25</td>\n",
       "      <td>13.25</td>\n",
       "      <td>0.0</td>\n",
       "    </tr>\n",
       "    <tr>\n",
       "      <th>1005</th>\n",
       "      <td>2019-04-26</td>\n",
       "      <td>13.44</td>\n",
       "      <td>13.62</td>\n",
       "      <td>12.49</td>\n",
       "      <td>12.73</td>\n",
       "      <td>12.73</td>\n",
       "      <td>0.0</td>\n",
       "    </tr>\n",
       "    <tr>\n",
       "      <th>1006</th>\n",
       "      <td>2019-04-29</td>\n",
       "      <td>13.04</td>\n",
       "      <td>13.27</td>\n",
       "      <td>12.65</td>\n",
       "      <td>13.11</td>\n",
       "      <td>13.11</td>\n",
       "      <td>0.0</td>\n",
       "    </tr>\n",
       "  </tbody>\n",
       "</table>\n",
       "</div>"
      ],
      "text/plain": [
       "            Date   Open   High    Low  Close  Adj Close  Volume\n",
       "1002  2019-04-23  12.66  12.69  12.08  12.28      12.28     0.0\n",
       "1003  2019-04-24  12.53  13.23  12.26  13.14      13.14     0.0\n",
       "1004  2019-04-25  13.29  14.30  12.81  13.25      13.25     0.0\n",
       "1005  2019-04-26  13.44  13.62  12.49  12.73      12.73     0.0\n",
       "1006  2019-04-29  13.04  13.27  12.65  13.11      13.11     0.0"
      ]
     },
     "execution_count": 11,
     "metadata": {},
     "output_type": "execute_result"
    }
   ],
   "source": [
    "new_vix.tail()"
   ]
  },
  {
   "cell_type": "markdown",
   "metadata": {},
   "source": [
    "### 拿vix的open,high,low, adj close作為 x(s)，tw的adj close作為y"
   ]
  },
  {
   "cell_type": "code",
   "execution_count": 13,
   "metadata": {},
   "outputs": [],
   "source": [
    "X = new_vix.iloc[:, 5]\n",
    "y = new_tw.iloc[:, 5]"
   ]
  },
  {
   "cell_type": "code",
   "execution_count": 28,
   "metadata": {},
   "outputs": [],
   "source": [
    "# Splitting the dataset into the Training set and Test set\n",
    "from sklearn.model_selection import train_test_split\n",
    "X_train, X_test, y_train, y_test = train_test_split(X, y, test_size = 0.25, random_state = 0)\n",
    "\n",
    "X_train = X_train.dropna()\n",
    "X_train = X_train.drop(X_train.index[[1,2,3,4,5,6,7,8,9,10,11,12,13,14,15,16,17,18,19,20]])\n",
    "y_train = y_train.dropna()\n",
    "\n",
    "X_test = X_test.drop(X_test.index[[1,2,3,4,5,6,7,8,9,10,11,12,13,14,15,16,17,18,19,20]])\n",
    "y_test = y_test.dropna()\n",
    "y_test = y_test.drop(y_test.index[[1,2,3,4,5,6,7]])"
   ]
  },
  {
   "cell_type": "code",
   "execution_count": 38,
   "metadata": {},
   "outputs": [
    {
     "data": {
      "text/plain": [
       "<matplotlib.collections.PathCollection at 0x1a28c30630>"
      ]
     },
     "execution_count": 38,
     "metadata": {},
     "output_type": "execute_result"
    },
    {
     "data": {
      "image/png": "[encoded data removed]",
      "text/plain": [
       "<Figure size 432x288 with 1 Axes>"
      ]
     },
     "metadata": {
      "needs_background": "light"
     },
     "output_type": "display_data"
    }
   ],
   "source": [
    "plt.scatter(X_train, y_train)"
   ]
  },
  {
   "cell_type": "code",
   "execution_count": 29,
   "metadata": {},
   "outputs": [],
   "source": [
    "from sklearn.linear_model import LinearRegression"
   ]
  },
  {
   "cell_type": "code",
   "execution_count": 33,
   "metadata": {},
   "outputs": [],
   "source": [
    "new_X_train = np.array(X_train).reshape(-1,1)\n",
    "new_y_train = np.array(y_train).reshape(-1,1)\n",
    "reg = LinearRegression().fit(new_X_train, new_y_train)"
   ]
  },
  {
   "cell_type": "code",
   "execution_count": 36,
   "metadata": {},
   "outputs": [
    {
     "data": {
      "text/plain": [
       "0.0007035735995379877"
      ]
     },
     "execution_count": 36,
     "metadata": {},
     "output_type": "execute_result"
    }
   ],
   "source": [
    "reg.score(new_X_train, new_y_train)"
   ]
  },
  {
   "cell_type": "code",
   "execution_count": null,
   "metadata": {},
   "outputs": [],
   "source": []
  },
  {
   "cell_type": "code",
   "execution_count": null,
   "metadata": {},
   "outputs": [],
   "source": []
  }
 ],
 "metadata": {
  "kernelspec": {
   "display_name": "Python 3",
   "language": "python",
   "name": "python3"
  },
  "language_info": {
   "codemirror_mode": {
    "name": "ipython",
    "version": 3
   },
   "file_extension": ".py",
   "mimetype": "text/x-python",
   "name": "python",
   "nbconvert_exporter": "python",
   "pygments_lexer": "ipython3",
   "version": "3.7.1"
  }
 },
 "nbformat": 4,
 "nbformat_minor": 2
}
