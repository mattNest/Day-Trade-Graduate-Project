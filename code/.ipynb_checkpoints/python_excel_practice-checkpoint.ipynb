{
 "cells": [
  {
   "cell_type": "code",
   "execution_count": 1,
   "metadata": {},
   "outputs": [],
   "source": [
    "from openpyxl import load_workbook"
   ]
  },
  {
   "cell_type": "code",
   "execution_count": 8,
   "metadata": {},
   "outputs": [
    {
     "name": "stdout",
     "output_type": "stream",
     "text": [
      "['Sheet1']\n"
     ]
    }
   ],
   "source": [
    "wb = load_workbook(\"sample.xlsx\")\n",
    "print(wb.sheetnames)"
   ]
  },
  {
   "cell_type": "code",
   "execution_count": 14,
   "metadata": {},
   "outputs": [
    {
     "data": {
      "text/plain": [
       "'France'"
      ]
     },
     "execution_count": 14,
     "metadata": {},
     "output_type": "execute_result"
    }
   ],
   "source": [
    "sheet = wb.active\n",
    "b4 = sheet['B4']\n",
    "b4.value"
   ]
  },
  {
   "cell_type": "code",
   "execution_count": 13,
   "metadata": {},
   "outputs": [
    {
     "name": "stdout",
     "output_type": "stream",
     "text": [
      "(2, 4) is France\n"
     ]
    }
   ],
   "source": [
    "print(f'({b4.column}, {b4.row}) is {b4.value}') "
   ]
  },
  {
   "cell_type": "code",
   "execution_count": 15,
   "metadata": {},
   "outputs": [
    {
     "name": "stdout",
     "output_type": "stream",
     "text": [
      "20100101_20190913_data.csv    python_excel_practice.ipynb\r\n",
      "20100101_20190913_data.rar    sample.xlsx\r\n",
      "20130613_20190620_data.csv    ~$sample.xlsx\r\n",
      "20190718.ipynb                \u001b[1m\u001b[36m報酬率_pei\u001b[m\u001b[m/\r\n",
      "2019_09_23 專題報表.xlsx      \u001b[1m\u001b[36m成交量_juu\u001b[m\u001b[m/\r\n"
     ]
    }
   ],
   "source": [
    "ls"
   ]
  },
  {
   "cell_type": "code",
   "execution_count": 36,
   "metadata": {},
   "outputs": [],
   "source": [
    "def read_write_excel(str_filename):\n",
    "    wb = load_workbook(str_filename)\n",
    "    sheet = wb.active\n",
    "    print(wb.sheetnames)\n",
    "    \n",
    "    a_sheet = wb['單向當沖基本統計量']\n",
    "    a_sheet['B6'].value = 'good'\n",
    "    print(a_sheet['B6'].value)\n",
    "    print(a_sheet.title)"
   ]
  },
  {
   "cell_type": "code",
   "execution_count": 37,
   "metadata": {},
   "outputs": [
    {
     "name": "stdout",
     "output_type": "stream",
     "text": [
      "['單向當沖基本統計量', '雙向當沖基本統計量(200間)_上市', '雙向當沖基本統計量(377間)_上市', '雙向當沖基本統計量(1432間)_上市', '稅率調降基本統計量(半年)_上市', '稅率調降基本統計量(一年)_上市', '檢定結果']\n",
      "good\n",
      "單向當沖基本統計量\n"
     ]
    }
   ],
   "source": [
    "read_write_excel(\"2019_09_23 專題報表.xlsx\")"
   ]
  },
  {
   "cell_type": "code",
   "execution_count": null,
   "metadata": {},
   "outputs": [],
   "source": []
  }
 ],
 "metadata": {
  "kernelspec": {
   "display_name": "Python 3",
   "language": "python",
   "name": "python3"
  },
  "language_info": {
   "codemirror_mode": {
    "name": "ipython",
    "version": 3
   },
   "file_extension": ".py",
   "mimetype": "text/x-python",
   "name": "python",
   "nbconvert_exporter": "python",
   "pygments_lexer": "ipython3",
   "version": "3.7.3"
  }
 },
 "nbformat": 4,
 "nbformat_minor": 2
}
