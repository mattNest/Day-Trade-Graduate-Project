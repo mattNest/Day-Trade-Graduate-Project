{
 "cells": [
  {
   "cell_type": "code",
   "execution_count": 2,
   "metadata": {},
   "outputs": [],
   "source": [
    "import numpy as np\n",
    "import pandas as pd\n",
    "from openpyxl import load_workbook"
   ]
  },
  {
   "cell_type": "code",
   "execution_count": 71,
   "metadata": {},
   "outputs": [],
   "source": [
    "def corr_prepare(date_1,date_2,date_3):\n",
    "    \"\"\"\n",
    "    根據date_1, date_2, date_3來切割dataframe\n",
    "    \"\"\"\n",
    "    df_assets = pd.read_excel(\"資產總額/上市櫃20160428-20180428.xlsx\",index_col='公司').dropna()['log(assets)']\n",
    "    df_day_trade = pd.read_csv(\"報酬率_pei/日報酬csv/上市上櫃公司20160428_20180428.csv\", index_col=\"證券代碼\")[3::4]\n",
    "    df_comb = pd.concat([df_assets,df_day_trade],axis=1,join_axes=[df_assets.index])\n",
    "        \n",
    "    tmp_arr = np.array(list(df_comb))\n",
    "    pos_1 = np.where(tmp_arr==date_1)[0][0]\n",
    "    pos_2 = np.where(tmp_arr==date_2)[0][0]\n",
    "    pos_3 = np.where(tmp_arr==date_3)[0][0]\n",
    "    \n",
    "    df_before = df_comb.iloc[:,pos_1:pos_2]\n",
    "    df_after = df_comb.iloc[:,pos_2:(pos_3+1)]\n",
    "    df_before['mean_before'] = df_before.mean(axis=1)\n",
    "    df_after['mean_after'] = df_after.mean(axis=1)\n",
    "    \n",
    "    df_before = df_before.fillna(value=df_before['mean_before'].mean())\n",
    "    df_after = df_after.fillna(value=df_after['mean_after'].mean())\n",
    "    \n",
    "    corr_a = df_after['mean_after']-df_before['mean_before']\n",
    "    corr_b = df_comb['log(assets)']\n",
    "    corr = np.cov(corr_a,corr_b)\n",
    "    \n",
    "    return corr"
   ]
  },
  {
   "cell_type": "code",
   "execution_count": 72,
   "metadata": {},
   "outputs": [
    {
     "data": {
      "text/plain": [
       "array([[15.69232699, -0.17190733],\n",
       "       [-0.17190733,  1.10726866]])"
      ]
     },
     "execution_count": 72,
     "metadata": {},
     "output_type": "execute_result"
    }
   ],
   "source": [
    "corr_prepare(\"2016/4/28\",\"2017/4/28\",\"2018/4/27\")"
   ]
  },
  {
   "cell_type": "code",
   "execution_count": null,
   "metadata": {},
   "outputs": [],
   "source": []
  },
  {
   "cell_type": "code",
   "execution_count": null,
   "metadata": {},
   "outputs": [],
   "source": []
  },
  {
   "cell_type": "code",
   "execution_count": null,
   "metadata": {},
   "outputs": [],
   "source": []
  }
 ],
 "metadata": {
  "kernelspec": {
   "display_name": "Python 3",
   "language": "python",
   "name": "python3"
  },
  "language_info": {
   "codemirror_mode": {
    "name": "ipython",
    "version": 3
   },
   "file_extension": ".py",
   "mimetype": "text/x-python",
   "name": "python",
   "nbconvert_exporter": "python",
   "pygments_lexer": "ipython3",
   "version": "3.7.3"
  }
 },
 "nbformat": 4,
 "nbformat_minor": 2
}
