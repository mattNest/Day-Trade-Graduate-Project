{
 "cells": [
  {
   "cell_type": "code",
   "execution_count": 1,
   "metadata": {},
   "outputs": [],
   "source": [
    "import pandas as pd\n",
    "import numpy as np\n",
    "df = pd.read_csv(\"old_data/成交量_juu/上市櫃20130613-20140630.csv\", thousands=',')"
   ]
  },
  {
   "cell_type": "code",
   "execution_count": 2,
   "metadata": {},
   "outputs": [
    {
     "data": {
      "text/html": [
       "<div>\n",
       "<style scoped>\n",
       "    .dataframe tbody tr th:only-of-type {\n",
       "        vertical-align: middle;\n",
       "    }\n",
       "\n",
       "    .dataframe tbody tr th {\n",
       "        vertical-align: top;\n",
       "    }\n",
       "\n",
       "    .dataframe thead th {\n",
       "        text-align: right;\n",
       "    }\n",
       "</style>\n",
       "<table border=\"1\" class=\"dataframe\">\n",
       "  <thead>\n",
       "    <tr style=\"text-align: right;\">\n",
       "      <th></th>\n",
       "      <th>代碼</th>\n",
       "      <th>Data Field</th>\n",
       "      <th>2014/6/30</th>\n",
       "      <th>2014/6/27</th>\n",
       "      <th>2014/6/26</th>\n",
       "      <th>2014/6/25</th>\n",
       "      <th>2014/6/24</th>\n",
       "      <th>2014/6/23</th>\n",
       "      <th>2014/6/20</th>\n",
       "      <th>2014/6/19</th>\n",
       "      <th>...</th>\n",
       "      <th>2013/6/26</th>\n",
       "      <th>2013/6/25</th>\n",
       "      <th>2013/6/24</th>\n",
       "      <th>2013/6/21</th>\n",
       "      <th>2013/6/20</th>\n",
       "      <th>2013/6/19</th>\n",
       "      <th>2013/6/18</th>\n",
       "      <th>2013/6/17</th>\n",
       "      <th>2013/6/14</th>\n",
       "      <th>2013/6/13</th>\n",
       "    </tr>\n",
       "  </thead>\n",
       "  <tbody>\n",
       "    <tr>\n",
       "      <th>0</th>\n",
       "      <td>1101 台泥</td>\n",
       "      <td>成交量(千股)</td>\n",
       "      <td>4902.00</td>\n",
       "      <td>4172.00</td>\n",
       "      <td>7980.0</td>\n",
       "      <td>6401.00</td>\n",
       "      <td>3667.00</td>\n",
       "      <td>7586.00</td>\n",
       "      <td>8081.00</td>\n",
       "      <td>6808.00</td>\n",
       "      <td>...</td>\n",
       "      <td>0</td>\n",
       "      <td>0</td>\n",
       "      <td>0</td>\n",
       "      <td>0</td>\n",
       "      <td>0</td>\n",
       "      <td>0</td>\n",
       "      <td>0</td>\n",
       "      <td>0</td>\n",
       "      <td>0</td>\n",
       "      <td>0</td>\n",
       "    </tr>\n",
       "    <tr>\n",
       "      <th>1</th>\n",
       "      <td>1101 台泥</td>\n",
       "      <td>現股當沖比重</td>\n",
       "      <td>4.73</td>\n",
       "      <td>0.17</td>\n",
       "      <td>0.0</td>\n",
       "      <td>6.09</td>\n",
       "      <td>0.33</td>\n",
       "      <td>0.82</td>\n",
       "      <td>0.19</td>\n",
       "      <td>0.43</td>\n",
       "      <td>...</td>\n",
       "      <td>0</td>\n",
       "      <td>0</td>\n",
       "      <td>0</td>\n",
       "      <td>0</td>\n",
       "      <td>0</td>\n",
       "      <td>0</td>\n",
       "      <td>0</td>\n",
       "      <td>0</td>\n",
       "      <td>0</td>\n",
       "      <td>0</td>\n",
       "    </tr>\n",
       "    <tr>\n",
       "      <th>2</th>\n",
       "      <td>1102 亞泥</td>\n",
       "      <td>成交量(千股)</td>\n",
       "      <td>3762.00</td>\n",
       "      <td>4340.00</td>\n",
       "      <td>4816.0</td>\n",
       "      <td>5046.00</td>\n",
       "      <td>6559.00</td>\n",
       "      <td>5211.00</td>\n",
       "      <td>7144.00</td>\n",
       "      <td>10119.00</td>\n",
       "      <td>...</td>\n",
       "      <td>0</td>\n",
       "      <td>0</td>\n",
       "      <td>0</td>\n",
       "      <td>0</td>\n",
       "      <td>0</td>\n",
       "      <td>0</td>\n",
       "      <td>0</td>\n",
       "      <td>0</td>\n",
       "      <td>0</td>\n",
       "      <td>0</td>\n",
       "    </tr>\n",
       "    <tr>\n",
       "      <th>3</th>\n",
       "      <td>1102 亞泥</td>\n",
       "      <td>現股當沖比重</td>\n",
       "      <td>0.58</td>\n",
       "      <td>0.16</td>\n",
       "      <td>0.0</td>\n",
       "      <td>4.36</td>\n",
       "      <td>0.29</td>\n",
       "      <td>0.27</td>\n",
       "      <td>0.06</td>\n",
       "      <td>0.00</td>\n",
       "      <td>...</td>\n",
       "      <td>0</td>\n",
       "      <td>0</td>\n",
       "      <td>0</td>\n",
       "      <td>0</td>\n",
       "      <td>0</td>\n",
       "      <td>0</td>\n",
       "      <td>0</td>\n",
       "      <td>0</td>\n",
       "      <td>0</td>\n",
       "      <td>0</td>\n",
       "    </tr>\n",
       "    <tr>\n",
       "      <th>4</th>\n",
       "      <td>1216 統一</td>\n",
       "      <td>成交量(千股)</td>\n",
       "      <td>4497.00</td>\n",
       "      <td>3577.00</td>\n",
       "      <td>4459.0</td>\n",
       "      <td>9256.00</td>\n",
       "      <td>8142.00</td>\n",
       "      <td>3241.00</td>\n",
       "      <td>4686.00</td>\n",
       "      <td>3916.00</td>\n",
       "      <td>...</td>\n",
       "      <td>0</td>\n",
       "      <td>0</td>\n",
       "      <td>0</td>\n",
       "      <td>0</td>\n",
       "      <td>0</td>\n",
       "      <td>0</td>\n",
       "      <td>0</td>\n",
       "      <td>0</td>\n",
       "      <td>0</td>\n",
       "      <td>0</td>\n",
       "    </tr>\n",
       "  </tbody>\n",
       "</table>\n",
       "<p>5 rows × 261 columns</p>\n",
       "</div>"
      ],
      "text/plain": [
       "        代碼 Data Field  2014/6/30  2014/6/27  2014/6/26  2014/6/25  2014/6/24  \\\n",
       "0  1101 台泥    成交量(千股)    4902.00    4172.00     7980.0    6401.00    3667.00   \n",
       "1  1101 台泥     現股當沖比重       4.73       0.17        0.0       6.09       0.33   \n",
       "2  1102 亞泥    成交量(千股)    3762.00    4340.00     4816.0    5046.00    6559.00   \n",
       "3  1102 亞泥     現股當沖比重       0.58       0.16        0.0       4.36       0.29   \n",
       "4  1216 統一    成交量(千股)    4497.00    3577.00     4459.0    9256.00    8142.00   \n",
       "\n",
       "   2014/6/23  2014/6/20  2014/6/19  ...  2013/6/26  2013/6/25  2013/6/24  \\\n",
       "0    7586.00    8081.00    6808.00  ...          0          0          0   \n",
       "1       0.82       0.19       0.43  ...          0          0          0   \n",
       "2    5211.00    7144.00   10119.00  ...          0          0          0   \n",
       "3       0.27       0.06       0.00  ...          0          0          0   \n",
       "4    3241.00    4686.00    3916.00  ...          0          0          0   \n",
       "\n",
       "   2013/6/21  2013/6/20  2013/6/19  2013/6/18  2013/6/17  2013/6/14  2013/6/13  \n",
       "0          0          0          0          0          0          0          0  \n",
       "1          0          0          0          0          0          0          0  \n",
       "2          0          0          0          0          0          0          0  \n",
       "3          0          0          0          0          0          0          0  \n",
       "4          0          0          0          0          0          0          0  \n",
       "\n",
       "[5 rows x 261 columns]"
      ]
     },
     "execution_count": 2,
     "metadata": {},
     "output_type": "execute_result"
    }
   ],
   "source": [
    "df.head()"
   ]
  },
  {
   "cell_type": "code",
   "execution_count": 3,
   "metadata": {},
   "outputs": [
    {
     "data": {
      "text/plain": [
       "2474.6042"
      ]
     },
     "execution_count": 3,
     "metadata": {},
     "output_type": "execute_result"
    }
   ],
   "source": [
    "tmp = df.iloc[:,2:].astype(np.float32)\n",
    "tmp['comp_mean'] = tmp.mean(axis=1)\n",
    "tmp['comp_mean'][0::2].mean()"
   ]
  },
  {
   "cell_type": "code",
   "execution_count": 60,
   "metadata": {},
   "outputs": [
    {
     "data": {
      "text/plain": [
       "0.7071067811865476"
      ]
     },
     "execution_count": 60,
     "metadata": {},
     "output_type": "execute_result"
    }
   ],
   "source": [
    "import math\n",
    "math.sqrt(0.5)"
   ]
  },
  {
   "cell_type": "code",
   "execution_count": 61,
   "metadata": {},
   "outputs": [
    {
     "data": {
      "text/plain": [
       "11.294117647058824"
      ]
     },
     "execution_count": 61,
     "metadata": {},
     "output_type": "execute_result"
    }
   ],
   "source": [
    "192/17"
   ]
  },
  {
   "cell_type": "code",
   "execution_count": 62,
   "metadata": {},
   "outputs": [
    {
     "data": {
      "text/plain": [
       "64.0"
      ]
     },
     "execution_count": 62,
     "metadata": {},
     "output_type": "execute_result"
    }
   ],
   "source": [
    "192/3"
   ]
  },
  {
   "cell_type": "code",
   "execution_count": 4,
   "metadata": {},
   "outputs": [
    {
     "data": {
      "text/plain": [
       "128"
      ]
     },
     "execution_count": 4,
     "metadata": {},
     "output_type": "execute_result"
    }
   ],
   "source": [
    "70+58"
   ]
  },
  {
   "cell_type": "code",
   "execution_count": 7,
   "metadata": {},
   "outputs": [
    {
     "data": {
      "text/plain": [
       "49.04214559386973"
      ]
     },
     "execution_count": 7,
     "metadata": {},
     "output_type": "execute_result"
    }
   ],
   "source": [
    "(5800+7000)/261"
   ]
  },
  {
   "cell_type": "code",
   "execution_count": 8,
   "metadata": {},
   "outputs": [
    {
     "data": {
      "text/plain": [
       "35.632183908045974"
      ]
     },
     "execution_count": 8,
     "metadata": {},
     "output_type": "execute_result"
    }
   ],
   "source": [
    "(4800+4500)/261"
   ]
  },
  {
   "cell_type": "code",
   "execution_count": null,
   "metadata": {},
   "outputs": [],
   "source": []
  }
 ],
 "metadata": {
  "kernelspec": {
   "display_name": "Python 3",
   "language": "python",
   "name": "python3"
  },
  "language_info": {
   "codemirror_mode": {
    "name": "ipython",
    "version": 3
   },
   "file_extension": ".py",
   "mimetype": "text/x-python",
   "name": "python",
   "nbconvert_exporter": "python",
   "pygments_lexer": "ipython3",
   "version": "3.7.5"
  }
 },
 "nbformat": 4,
 "nbformat_minor": 2
}
