{
 "cells": [
  {
   "cell_type": "code",
   "execution_count": 51,
   "metadata": {},
   "outputs": [],
   "source": [
    "import pandas as pd\n",
    "import numpy as np\n",
    "df = pd.read_csv(\"old_data/成交量_juu/上市櫃20160428-20180428.csv\", thousands=',')"
   ]
  },
  {
   "cell_type": "code",
   "execution_count": 52,
   "metadata": {},
   "outputs": [
    {
     "data": {
      "text/html": [
       "<div>\n",
       "<style scoped>\n",
       "    .dataframe tbody tr th:only-of-type {\n",
       "        vertical-align: middle;\n",
       "    }\n",
       "\n",
       "    .dataframe tbody tr th {\n",
       "        vertical-align: top;\n",
       "    }\n",
       "\n",
       "    .dataframe thead th {\n",
       "        text-align: right;\n",
       "    }\n",
       "</style>\n",
       "<table border=\"1\" class=\"dataframe\">\n",
       "  <thead>\n",
       "    <tr style=\"text-align: right;\">\n",
       "      <th></th>\n",
       "      <th>代碼</th>\n",
       "      <th>Data Field</th>\n",
       "      <th>2018/4/27</th>\n",
       "      <th>2018/4/26</th>\n",
       "      <th>2018/4/25</th>\n",
       "      <th>2018/4/24</th>\n",
       "      <th>2018/4/23</th>\n",
       "      <th>2018/4/20</th>\n",
       "      <th>2018/4/19</th>\n",
       "      <th>2018/4/18</th>\n",
       "      <th>...</th>\n",
       "      <th>2016/5/12</th>\n",
       "      <th>2016/5/11</th>\n",
       "      <th>2016/5/10</th>\n",
       "      <th>2016/5/9</th>\n",
       "      <th>2016/5/6</th>\n",
       "      <th>2016/5/5</th>\n",
       "      <th>2016/5/4</th>\n",
       "      <th>2016/5/3</th>\n",
       "      <th>2016/4/29</th>\n",
       "      <th>2016/4/28</th>\n",
       "    </tr>\n",
       "  </thead>\n",
       "  <tbody>\n",
       "    <tr>\n",
       "      <td>0</td>\n",
       "      <td>0050 元大台灣50</td>\n",
       "      <td>成交量(千股)</td>\n",
       "      <td>12395.00</td>\n",
       "      <td>16485.00</td>\n",
       "      <td>16460.00</td>\n",
       "      <td>16867.00</td>\n",
       "      <td>10624.00</td>\n",
       "      <td>9017.0</td>\n",
       "      <td>4461.00</td>\n",
       "      <td>3739.00</td>\n",
       "      <td>...</td>\n",
       "      <td>13397.00</td>\n",
       "      <td>19053.00</td>\n",
       "      <td>13152.00</td>\n",
       "      <td>14499.00</td>\n",
       "      <td>22004.00</td>\n",
       "      <td>14591.00</td>\n",
       "      <td>14504.00</td>\n",
       "      <td>9711.00</td>\n",
       "      <td>7266.00</td>\n",
       "      <td>10321.00</td>\n",
       "    </tr>\n",
       "    <tr>\n",
       "      <td>1</td>\n",
       "      <td>0050 元大台灣50</td>\n",
       "      <td>現股當沖比重</td>\n",
       "      <td>2.07</td>\n",
       "      <td>1.24</td>\n",
       "      <td>2.64</td>\n",
       "      <td>2.68</td>\n",
       "      <td>0.95</td>\n",
       "      <td>2.0</td>\n",
       "      <td>2.08</td>\n",
       "      <td>3.29</td>\n",
       "      <td>...</td>\n",
       "      <td>2.31</td>\n",
       "      <td>1.09</td>\n",
       "      <td>6.46</td>\n",
       "      <td>2.19</td>\n",
       "      <td>1.06</td>\n",
       "      <td>1.99</td>\n",
       "      <td>5.32</td>\n",
       "      <td>5.59</td>\n",
       "      <td>6.28</td>\n",
       "      <td>3.54</td>\n",
       "    </tr>\n",
       "    <tr>\n",
       "      <td>2</td>\n",
       "      <td>0051 元大中型100</td>\n",
       "      <td>成交量(千股)</td>\n",
       "      <td>12.00</td>\n",
       "      <td>21.00</td>\n",
       "      <td>11.00</td>\n",
       "      <td>9.00</td>\n",
       "      <td>34.00</td>\n",
       "      <td>13.0</td>\n",
       "      <td>12.00</td>\n",
       "      <td>5.00</td>\n",
       "      <td>...</td>\n",
       "      <td>68.00</td>\n",
       "      <td>16.00</td>\n",
       "      <td>52.00</td>\n",
       "      <td>4.00</td>\n",
       "      <td>33.00</td>\n",
       "      <td>40.00</td>\n",
       "      <td>62.00</td>\n",
       "      <td>30.00</td>\n",
       "      <td>19.00</td>\n",
       "      <td>12.00</td>\n",
       "    </tr>\n",
       "    <tr>\n",
       "      <td>3</td>\n",
       "      <td>0051 元大中型100</td>\n",
       "      <td>現股當沖比重</td>\n",
       "      <td>8.33</td>\n",
       "      <td>0.00</td>\n",
       "      <td>0.00</td>\n",
       "      <td>0.00</td>\n",
       "      <td>0.00</td>\n",
       "      <td>0.0</td>\n",
       "      <td>0.00</td>\n",
       "      <td>0.00</td>\n",
       "      <td>...</td>\n",
       "      <td>0.00</td>\n",
       "      <td>0.00</td>\n",
       "      <td>5.77</td>\n",
       "      <td>0.00</td>\n",
       "      <td>0.00</td>\n",
       "      <td>0.00</td>\n",
       "      <td>0.00</td>\n",
       "      <td>0.00</td>\n",
       "      <td>0.00</td>\n",
       "      <td>0.00</td>\n",
       "    </tr>\n",
       "    <tr>\n",
       "      <td>4</td>\n",
       "      <td>0052 富邦科技</td>\n",
       "      <td>成交量(千股)</td>\n",
       "      <td>4.00</td>\n",
       "      <td>12.00</td>\n",
       "      <td>7.00</td>\n",
       "      <td>3.00</td>\n",
       "      <td>6.00</td>\n",
       "      <td>4.0</td>\n",
       "      <td>1.00</td>\n",
       "      <td>3.00</td>\n",
       "      <td>...</td>\n",
       "      <td>0.00</td>\n",
       "      <td>27.00</td>\n",
       "      <td>3.00</td>\n",
       "      <td>9.00</td>\n",
       "      <td>1.00</td>\n",
       "      <td>9.00</td>\n",
       "      <td>15.00</td>\n",
       "      <td>18.00</td>\n",
       "      <td>8.00</td>\n",
       "      <td>13.00</td>\n",
       "    </tr>\n",
       "  </tbody>\n",
       "</table>\n",
       "<p>5 rows × 493 columns</p>\n",
       "</div>"
      ],
      "text/plain": [
       "             代碼 Data Field  2018/4/27  2018/4/26  2018/4/25  2018/4/24  \\\n",
       "0   0050 元大台灣50    成交量(千股)   12395.00   16485.00   16460.00   16867.00   \n",
       "1   0050 元大台灣50     現股當沖比重       2.07       1.24       2.64       2.68   \n",
       "2  0051 元大中型100    成交量(千股)      12.00      21.00      11.00       9.00   \n",
       "3  0051 元大中型100     現股當沖比重       8.33       0.00       0.00       0.00   \n",
       "4     0052 富邦科技    成交量(千股)       4.00      12.00       7.00       3.00   \n",
       "\n",
       "   2018/4/23  2018/4/20  2018/4/19  2018/4/18  ...  2016/5/12  2016/5/11  \\\n",
       "0   10624.00     9017.0    4461.00    3739.00  ...   13397.00   19053.00   \n",
       "1       0.95        2.0       2.08       3.29  ...       2.31       1.09   \n",
       "2      34.00       13.0      12.00       5.00  ...      68.00      16.00   \n",
       "3       0.00        0.0       0.00       0.00  ...       0.00       0.00   \n",
       "4       6.00        4.0       1.00       3.00  ...       0.00      27.00   \n",
       "\n",
       "   2016/5/10  2016/5/9  2016/5/6  2016/5/5  2016/5/4  2016/5/3  2016/4/29  \\\n",
       "0   13152.00  14499.00  22004.00  14591.00  14504.00   9711.00    7266.00   \n",
       "1       6.46      2.19      1.06      1.99      5.32      5.59       6.28   \n",
       "2      52.00      4.00     33.00     40.00     62.00     30.00      19.00   \n",
       "3       5.77      0.00      0.00      0.00      0.00      0.00       0.00   \n",
       "4       3.00      9.00      1.00      9.00     15.00     18.00       8.00   \n",
       "\n",
       "   2016/4/28  \n",
       "0   10321.00  \n",
       "1       3.54  \n",
       "2      12.00  \n",
       "3       0.00  \n",
       "4      13.00  \n",
       "\n",
       "[5 rows x 493 columns]"
      ]
     },
     "execution_count": 52,
     "metadata": {},
     "output_type": "execute_result"
    }
   ],
   "source": [
    "df.head()"
   ]
  },
  {
   "cell_type": "code",
   "execution_count": 53,
   "metadata": {},
   "outputs": [
    {
     "data": {
      "text/plain": [
       "1456.0321044921875"
      ]
     },
     "execution_count": 53,
     "metadata": {},
     "output_type": "execute_result"
    }
   ],
   "source": [
    "tmp = df.iloc[:,2:].astype(np.float32)\n",
    "tmp['comp_mean'] = tmp.mean(axis=1)\n",
    "tmp['comp_mean'][0::2].mean()"
   ]
  },
  {
   "cell_type": "code",
   "execution_count": 60,
   "metadata": {},
   "outputs": [
    {
     "data": {
      "text/plain": [
       "0.7071067811865476"
      ]
     },
     "execution_count": 60,
     "metadata": {},
     "output_type": "execute_result"
    }
   ],
   "source": [
    "import math\n",
    "math.sqrt(0.5)"
   ]
  },
  {
   "cell_type": "code",
   "execution_count": 61,
   "metadata": {},
   "outputs": [
    {
     "data": {
      "text/plain": [
       "11.294117647058824"
      ]
     },
     "execution_count": 61,
     "metadata": {},
     "output_type": "execute_result"
    }
   ],
   "source": [
    "192/17"
   ]
  },
  {
   "cell_type": "code",
   "execution_count": 62,
   "metadata": {},
   "outputs": [
    {
     "data": {
      "text/plain": [
       "64.0"
      ]
     },
     "execution_count": 62,
     "metadata": {},
     "output_type": "execute_result"
    }
   ],
   "source": [
    "192/3"
   ]
  },
  {
   "cell_type": "code",
   "execution_count": null,
   "metadata": {},
   "outputs": [],
   "source": []
  }
 ],
 "metadata": {
  "kernelspec": {
   "display_name": "Python 3",
   "language": "python",
   "name": "python3"
  },
  "language_info": {
   "codemirror_mode": {
    "name": "ipython",
    "version": 3
   },
   "file_extension": ".py",
   "mimetype": "text/x-python",
   "name": "python",
   "nbconvert_exporter": "python",
   "pygments_lexer": "ipython3",
   "version": "3.7.4"
  }
 },
 "nbformat": 4,
 "nbformat_minor": 2
}
