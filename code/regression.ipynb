{
 "cells": [
  {
   "cell_type": "code",
   "execution_count": 1,
   "metadata": {},
   "outputs": [],
   "source": [
    "import numpy as np\n",
    "import pandas as pd\n",
    "import matplotlib.pyplot as plt\n",
    "plt.style.use('ggplot')\n",
    "import statsmodels.stats.api as sms\n",
    "import statsmodels.api as sm\n",
    "import statsmodels.formula.api as smf\n",
    "import warnings\n",
    "import datetime as datetime\n",
    "import json\n",
    "import os\n",
    "import csv\n",
    "import math\n",
    "from datetime import timedelta\n",
    "from openpyxl import load_workbook\n",
    "warnings.filterwarnings(\"ignore\")\n",
    "%matplotlib inline\n",
    "\n",
    "from sklearn.linear_model import LinearRegression\n",
    "from scipy import stats"
   ]
  },
  {
   "cell_type": "code",
   "execution_count": 29,
   "metadata": {},
   "outputs": [],
   "source": [
    "def vol_prepro(df6,date_1,date_2,date_3):\n",
    "    tmp_arr = np.array(list(df6))\n",
    "    pos_1 = np.where(tmp_arr==date_1)[0][0]\n",
    "    pos_2 = np.where(tmp_arr==date_2)[0][0]\n",
    "    pos_3 = np.where(tmp_arr==date_3)[0][0]\n",
    "    \n",
    "    df_before = df6.iloc[:,pos_1:pos_2]\n",
    "    df_after = df6.iloc[:,pos_2:(pos_3+1)]\n",
    "    \n",
    "    df_before['mean_before'] = df_before.mean(axis=1)\n",
    "    df_after['mean_after'] = df_after.mean(axis=1)\n",
    "    \n",
    "    y = df_after['mean_after']-df_before['mean_before']\n",
    "    return y"
   ]
  },
  {
   "cell_type": "code",
   "execution_count": 50,
   "metadata": {},
   "outputs": [],
   "source": [
    "def spread_prepro(df7,date_1,date_2,date_3):\n",
    "    tmp_arr = np.array(list(df7))\n",
    "    pos_1 = np.where(tmp_arr==date_1)[0][0]\n",
    "    pos_2 = np.where(tmp_arr==date_2)[0][0]\n",
    "    pos_3 = np.where(tmp_arr==date_3)[0][0]\n",
    "    \n",
    "    df_before = df7.iloc[:,pos_1:pos_2]\n",
    "    df_after = df7.iloc[:,pos_2:(pos_3+1)]\n",
    "    \n",
    "    df_before['mean_before'] = df_before.mean(axis=1)\n",
    "    df_after['mean_after'] = df_after.mean(axis=1)\n",
    "    \n",
    "    y = df_after['mean_after'][1::2]-df_before['mean_before'][1::2]\n",
    "    return y"
   ]
  },
  {
   "cell_type": "code",
   "execution_count": 150,
   "metadata": {
    "code_folding": []
   },
   "outputs": [],
   "source": [
    "def regression(res, date_1, date_2, date_3):\n",
    "        \"\"\"\n",
    "        根據date_1, date_2, date_3來切割dataframe\n",
    "        \"\"\"\n",
    "        df1 = res.iloc[:,:248]\n",
    "        tmp_arr = np.array(list(df1))\n",
    "        pos_1 = np.where(tmp_arr==date_1)[0][0]\n",
    "        pos_2 = np.where(tmp_arr==date_2)[0][0]\n",
    "        pos_3 = np.where(tmp_arr==date_3)[0][0]\n",
    "        #print(\"date_1 pos: {}\\ndate_2 pos: {}\\ndate_3 pos: {}\".format(self.pos_1,self.pos_2,self.pos_3))\n",
    "        \n",
    "        df_before = df1.iloc[:,pos_1:pos_2]\n",
    "        df_after = df1.iloc[:,pos_2:(pos_3+1)]\n",
    "        \n",
    "        df_before['mean_before'] = df_before.mean(axis=1)\n",
    "        df_after['mean_after'] = df_after.mean(axis=1)\n",
    "        df_before['std_before'] = df_before.std(axis=1)\n",
    "        df_after['std_after'] = df_after.std(axis=1)\n",
    "        \n",
    "        \"\"\"\n",
    "        prepare OLS \n",
    "        \"\"\"\n",
    "        y_daily = df_after['std_after'][0::4]-df_before['std_before'][0::4]\n",
    "        y_weekly = df_after['std_after'][1::4]-df_before['std_before'][1::4]\n",
    "        y_monthly = df_after['std_after'][2::4]-df_before['std_before'][2::4]\n",
    "        y_vol = res.iloc[:,257][0::4] # vol週轉率\n",
    "        y_spread = res.iloc[:,258][0::4] # 賣買價差%\n",
    "        x1 = df_after['mean_after'][3::4]-df_before['mean_before'][3::4]\n",
    "        x2 = res.iloc[:,249][0::4] # log(assets)\n",
    "        x3 = res.iloc[:,252][0::4] # D/A\n",
    "        x4 = res.iloc[:,254][0::4] # P/B\n",
    "        x5 = res.iloc[:,256][0::4] # beta\n",
    "        \n",
    "        df_final = pd.concat([y_spread,x1,x2,x3,x4,x5],axis=1)\n",
    "        df_final.columns=['y_spread','x1','x2','x3','x4','x5']\n",
    "        df_final['y_spread'].fillna(value=df_final['y_spread'].mean(), inplace=True)\n",
    "        df_final['x1'].fillna(value=df_final['x1'].mean(), inplace=True)\n",
    "        df_final['x2'].fillna(value=df_final['x2'].mean(), inplace=True)\n",
    "        df_final['x2'] = np.log(df_final['x2'])\n",
    "        df_final['x3'].fillna(value=df_final['x3'].mean(), inplace=True)\n",
    "        df_final['x4'].fillna(value=df_final['x4'].mean(), inplace=True)\n",
    "        df_final['x5'].fillna(value=df_final['x5'].mean(), inplace=True)\n",
    "        \n",
    "        #return df_final.head()\n",
    "        \n",
    "        X = df_final.iloc[:,1:]\n",
    "        Y = df_final.iloc[:,0]\n",
    "\n",
    "        X = sm.add_constant(X)\n",
    "        model = sm.OLS(Y,X).fit()\n",
    "        print(model.summary())"
   ]
  },
  {
   "cell_type": "code",
   "execution_count": 151,
   "metadata": {},
   "outputs": [],
   "source": [
    "df1 = pd.read_csv(\"new_data/報酬率_pei/日報酬csv/上市上櫃公司20161101_20171031.csv\",index_col=\"證券代碼\")\n",
    "df2 = pd.read_csv(\"new_data/資產總額_new/上市櫃20161101-20171031.csv\",index_col=\"公司\",thousands=',')\n",
    "df3 = pd.read_csv(\"new_data/DA_new/上市櫃2016.csv\",index_col=\"公司\")\n",
    "df4 = pd.read_csv(\"new_data/PB_new/上市櫃2016.csv\",index_col=\"證券代碼\")\n",
    "df5 = pd.read_csv(\"new_data/beta_new/上市櫃2016.csv\",index_col=\"證券代碼\")\n",
    "df6 = pd.read_csv(\"new_data/封存_juu/周轉率new/上市櫃20161101-20171031.csv\", index_col=\"證券代碼\")\n",
    "df7 = pd.read_csv(\"new_data/spread_pei/ALL20161101_20171031.csv\", index_col=\"證券代碼\")\n",
    "vol = vol_prepro(df6,\"2016/11/1\",\"2017/4/28\",\"2017/10/31\")\n",
    "spread = spread_prepro(df7,\"2016/11/1\",\"2017/4/28\",\"2017/10/31\")\n",
    "\n",
    "res = pd.concat([df1,df2,df3,df4,df5,vol,spread],axis=1, join_axes=[df1.index])"
   ]
  },
  {
   "cell_type": "code",
   "execution_count": 152,
   "metadata": {},
   "outputs": [
    {
     "name": "stdout",
     "output_type": "stream",
     "text": [
      "                            OLS Regression Results                            \n",
      "==============================================================================\n",
      "Dep. Variable:               y_spread   R-squared:                       0.023\n",
      "Model:                            OLS   Adj. R-squared:                  0.018\n",
      "Method:                 Least Squares   F-statistic:                     4.455\n",
      "Date:                Sun, 17 Nov 2019   Prob (F-statistic):           0.000512\n",
      "Time:                        11:51:23   Log-Likelihood:                 2462.0\n",
      "No. Observations:                 951   AIC:                            -4912.\n",
      "Df Residuals:                     945   BIC:                            -4883.\n",
      "Df Model:                           5                                         \n",
      "Covariance Type:            nonrobust                                         \n",
      "==============================================================================\n",
      "                 coef    std err          t      P>|t|      [0.025      0.975]\n",
      "------------------------------------------------------------------------------\n",
      "const         -0.0127      0.006     -1.998      0.046      -0.025      -0.000\n",
      "x1            -0.0005      0.000     -3.890      0.000      -0.001      -0.000\n",
      "x2             0.0007      0.000      1.515      0.130      -0.000       0.002\n",
      "x3          4.604e-06   3.46e-05      0.133      0.894   -6.34e-05    7.26e-05\n",
      "x4             0.0001      0.000      0.444      0.657      -0.000       0.001\n",
      "x5             0.0029      0.002      1.683      0.093      -0.000       0.006\n",
      "==============================================================================\n",
      "Omnibus:                     1194.967   Durbin-Watson:                   1.793\n",
      "Prob(Omnibus):                  0.000   Jarque-Bera (JB):           402686.422\n",
      "Skew:                          -6.055   Prob(JB):                         0.00\n",
      "Kurtosis:                     103.079   Cond. No.                         550.\n",
      "==============================================================================\n",
      "\n",
      "Warnings:\n",
      "[1] Standard Errors assume that the covariance matrix of the errors is correctly specified.\n"
     ]
    }
   ],
   "source": [
    "regression(res,\"2016/11/1\",\"2017/4/28\",\"2017/10/31\")"
   ]
  },
  {
   "cell_type": "code",
   "execution_count": null,
   "metadata": {},
   "outputs": [],
   "source": []
  }
 ],
 "metadata": {
  "kernelspec": {
   "display_name": "Python 3",
   "language": "python",
   "name": "python3"
  },
  "language_info": {
   "codemirror_mode": {
    "name": "ipython",
    "version": 3
   },
   "file_extension": ".py",
   "mimetype": "text/x-python",
   "name": "python",
   "nbconvert_exporter": "python",
   "pygments_lexer": "ipython3",
   "version": "3.7.5"
  }
 },
 "nbformat": 4,
 "nbformat_minor": 2
}
