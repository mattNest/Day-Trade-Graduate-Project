{
 "cells": [
  {
   "cell_type": "code",
   "execution_count": 1,
   "metadata": {},
   "outputs": [],
   "source": [
    "import numpy as np\n",
    "import pandas as pd\n",
    "import matplotlib.pyplot as plt\n",
    "import statsmodels.api as sm\n",
    "import statsmodels.formula.api as smf\n",
    "%matplotlib inline\n",
    "\n",
    "from sklearn.linear_model import LinearRegression\n",
    "from scipy import stats"
   ]
  },
  {
   "cell_type": "code",
   "execution_count": 2,
   "metadata": {},
   "outputs": [],
   "source": [
    "def find_xy(str,a) : \n",
    "    day_trade_data = pd.read_csv(\"20130613_20190620_data_utf8.csv\")\n",
    "    tmp_arr = np.array(list(day_trade_data))\n",
    "    if(str=='2014/1/6') : \n",
    "        result1= np.where(tmp_arr=='2013/6/13')\n",
    "        result2 = np.where(tmp_arr=='2014/1/6')\n",
    "        result3= np.where(tmp_arr=='2014/6/30')\n",
    "    elif (str=='2014/6/30') :\n",
    "        result1 = np.where(tmp_arr=='2013/12/30')\n",
    "        result2 = np.where(tmp_arr=='2014/6/30')\n",
    "        result3 = np.where(tmp_arr=='2014/12/30')\n",
    "    else : \n",
    "        result1 = np.where(tmp_arr=='2015/4/28')\n",
    "        result2 = np.where(tmp_arr=='2017/4/28')\n",
    "        result3 = np.where(tmp_arr=='2019/4/29')\n",
    "        \n",
    "    day_trade_data_before = day_trade_data.iloc[:,int(result1[0]):int(result2[0])] # 2012/01/06 - 2014/01/06\n",
    "    day_trade_data_after = day_trade_data.iloc[:,int(result2[0]):int(result3[0])] # 2014/01/07 - 2016/01/06\n",
    "    # 計算每間公司的日報酬率標準差\n",
    "    day_trade_data_before['company_std_before'] = day_trade_data_before.std(axis=1)\n",
    "    day_trade_data_after['company_std_after'] = day_trade_data_after.std(axis=1)\n",
    "    \n",
    "    # 計算每間公司的現股當沖比重平均\n",
    "    day_trade_data_before['company_day_mean_before'] = day_trade_data_before.mean(axis=1)\n",
    "    day_trade_data_after['company_mean_after'] = day_trade_data_after.mean(axis=1)\n",
    "\n",
    "    x = day_trade_data_after.iloc[3::4]['company_mean_after'] - day_trade_data_before.iloc[3::4]['company_day_mean_before']\n",
    "    y = day_trade_data_after.iloc[a::4]['company_std_after'] - day_trade_data_before.iloc[a::4]['company_std_before']\n",
    "    return(x,y)"
   ]
  },
  {
   "cell_type": "code",
   "execution_count": 3,
   "metadata": {},
   "outputs": [],
   "source": [
    "def test(x,y):\n",
    "    y = list(y)\n",
    "    x = sm.add_constant(x)\n",
    "    results = sm.OLS(y,x).fit()\n",
    "    print(results.summary())\n",
    "    return"
   ]
  },
  {
   "cell_type": "code",
   "execution_count": 5,
   "metadata": {},
   "outputs": [
    {
     "name": "stdout",
     "output_type": "stream",
     "text": [
      "                            OLS Regression Results                            \n",
      "==============================================================================\n",
      "Dep. Variable:                      y   R-squared:                       0.008\n",
      "Model:                            OLS   Adj. R-squared:                  0.007\n",
      "Method:                 Least Squares   F-statistic:                     7.780\n",
      "Date:                Mon, 24 Jun 2019   Prob (F-statistic):            0.00539\n",
      "Time:                        01:07:51   Log-Likelihood:                -1127.8\n",
      "No. Observations:                 949   AIC:                             2260.\n",
      "Df Residuals:                     947   BIC:                             2269.\n",
      "Df Model:                           1                                         \n",
      "Covariance Type:            nonrobust                                         \n",
      "==============================================================================\n",
      "                 coef    std err          t      P>|t|      [0.025      0.975]\n",
      "------------------------------------------------------------------------------\n",
      "const          0.0472      0.026      1.788      0.074      -0.005       0.099\n",
      "0              0.0699      0.025      2.789      0.005       0.021       0.119\n",
      "==============================================================================\n",
      "Omnibus:                      652.581   Durbin-Watson:                   1.795\n",
      "Prob(Omnibus):                  0.000   Jarque-Bera (JB):            30624.300\n",
      "Skew:                           2.543   Prob(JB):                         0.00\n",
      "Kurtosis:                      30.361   Cond. No.                         1.25\n",
      "==============================================================================\n",
      "\n",
      "Warnings:\n",
      "[1] Standard Errors assume that the covariance matrix of the errors is correctly specified.\n"
     ]
    }
   ],
   "source": [
    "#用日報酬\n",
    "#第一部分，開放當沖~雙向當沖(2014/01/06~2014/06/30)\n",
    "find_xy_data = find_xy('2014/6/30',0)\n",
    "x=find_xy_data[0]\n",
    "y=find_xy_data[1]\n",
    "test(x,y)"
   ]
  },
  {
   "cell_type": "code",
   "execution_count": 43,
   "metadata": {},
   "outputs": [
    {
     "name": "stdout",
     "output_type": "stream",
     "text": [
      "                            OLS Regression Results                            \n",
      "==============================================================================\n",
      "Dep. Variable:                      y   R-squared:                       0.008\n",
      "Model:                            OLS   Adj. R-squared:                  0.007\n",
      "Method:                 Least Squares   F-statistic:                     7.780\n",
      "Date:                Fri, 21 Jun 2019   Prob (F-statistic):            0.00539\n",
      "Time:                        11:25:09   Log-Likelihood:                -1127.8\n",
      "No. Observations:                 949   AIC:                             2260.\n",
      "Df Residuals:                     947   BIC:                             2269.\n",
      "Df Model:                           1                                         \n",
      "Covariance Type:            nonrobust                                         \n",
      "==============================================================================\n",
      "                 coef    std err          t      P>|t|      [0.025      0.975]\n",
      "------------------------------------------------------------------------------\n",
      "const          0.0472      0.026      1.788      0.074      -0.005       0.099\n",
      "0              0.0699      0.025      2.789      0.005       0.021       0.119\n",
      "==============================================================================\n",
      "Omnibus:                      652.581   Durbin-Watson:                   1.795\n",
      "Prob(Omnibus):                  0.000   Jarque-Bera (JB):            30624.300\n",
      "Skew:                           2.543   Prob(JB):                         0.00\n",
      "Kurtosis:                      30.361   Cond. No.                         1.25\n",
      "==============================================================================\n",
      "\n",
      "Warnings:\n",
      "[1] Standard Errors assume that the covariance matrix of the errors is correctly specified.\n"
     ]
    }
   ],
   "source": [
    "#第二部分，雙向當沖前後抓半年(2014/06/30)\n",
    "find_xy_data = find_xy('2017/4/28',0)\n",
    "x=find_xy_data[0]\n",
    "y=find_xy_data[1]\n",
    "test(x,y)"
   ]
  },
  {
   "cell_type": "code",
   "execution_count": 44,
   "metadata": {},
   "outputs": [
    {
     "name": "stdout",
     "output_type": "stream",
     "text": [
      "                            OLS Regression Results                            \n",
      "==============================================================================\n",
      "Dep. Variable:                      y   R-squared:                       0.067\n",
      "Model:                            OLS   Adj. R-squared:                  0.066\n",
      "Method:                 Least Squares   F-statistic:                     67.50\n",
      "Date:                Fri, 21 Jun 2019   Prob (F-statistic):           6.89e-16\n",
      "Time:                        11:25:16   Log-Likelihood:                -1266.4\n",
      "No. Observations:                 949   AIC:                             2537.\n",
      "Df Residuals:                     947   BIC:                             2547.\n",
      "Df Model:                           1                                         \n",
      "Covariance Type:            nonrobust                                         \n",
      "==============================================================================\n",
      "                 coef    std err          t      P>|t|      [0.025      0.975]\n",
      "------------------------------------------------------------------------------\n",
      "const         -0.3380      0.041     -8.250      0.000      -0.418      -0.258\n",
      "0              0.0344      0.004      8.216      0.000       0.026       0.043\n",
      "==============================================================================\n",
      "Omnibus:                      921.515   Durbin-Watson:                   1.580\n",
      "Prob(Omnibus):                  0.000   Jarque-Bera (JB):           187440.367\n",
      "Skew:                           3.870   Prob(JB):                         0.00\n",
      "Kurtosis:                      71.414   Cond. No.                         13.5\n",
      "==============================================================================\n",
      "\n",
      "Warnings:\n",
      "[1] Standard Errors assume that the covariance matrix of the errors is correctly specified.\n"
     ]
    }
   ],
   "source": [
    "#第三部分，調整手續費前後抓兩年(2017/04/28)\n",
    "find_xy_data = find_xy('2019/6/20',0)\n",
    "x=find_xy_data[0]\n",
    "y=find_xy_data[1]\n",
    "test(x,y)"
   ]
  },
  {
   "cell_type": "code",
   "execution_count": 45,
   "metadata": {},
   "outputs": [
    {
     "name": "stdout",
     "output_type": "stream",
     "text": [
      "                            OLS Regression Results                            \n",
      "==============================================================================\n",
      "Dep. Variable:                      y   R-squared:                       0.009\n",
      "Model:                            OLS   Adj. R-squared:                  0.008\n",
      "Method:                 Least Squares   F-statistic:                     8.376\n",
      "Date:                Fri, 21 Jun 2019   Prob (F-statistic):            0.00389\n",
      "Time:                        11:26:32   Log-Likelihood:                -2048.6\n",
      "No. Observations:                 949   AIC:                             4101.\n",
      "Df Residuals:                     947   BIC:                             4111.\n",
      "Df Model:                           1                                         \n",
      "Covariance Type:            nonrobust                                         \n",
      "==============================================================================\n",
      "                 coef    std err          t      P>|t|      [0.025      0.975]\n",
      "------------------------------------------------------------------------------\n",
      "const         -0.0567      0.071     -0.794      0.428      -0.197       0.083\n",
      "0             -0.1449      0.050     -2.894      0.004      -0.243      -0.047\n",
      "==============================================================================\n",
      "Omnibus:                      259.429   Durbin-Watson:                   1.941\n",
      "Prob(Omnibus):                  0.000   Jarque-Bera (JB):             2336.515\n",
      "Skew:                           0.980   Prob(JB):                         0.00\n",
      "Kurtosis:                      10.433   Cond. No.                         1.61\n",
      "==============================================================================\n",
      "\n",
      "Warnings:\n",
      "[1] Standard Errors assume that the covariance matrix of the errors is correctly specified.\n"
     ]
    }
   ],
   "source": [
    "#週報酬\n",
    "#第一部分，開放當沖~雙向當沖(2014/01/06~2014/06/30)\n",
    "find_xy_data = find_xy('2014/6/30',1)\n",
    "x=find_xy_data[0]\n",
    "y=find_xy_data[1]\n",
    "test(x,y)"
   ]
  },
  {
   "cell_type": "code",
   "execution_count": 46,
   "metadata": {},
   "outputs": [
    {
     "name": "stdout",
     "output_type": "stream",
     "text": [
      "                            OLS Regression Results                            \n",
      "==============================================================================\n",
      "Dep. Variable:                      y   R-squared:                       0.012\n",
      "Model:                            OLS   Adj. R-squared:                  0.011\n",
      "Method:                 Least Squares   F-statistic:                     11.89\n",
      "Date:                Fri, 21 Jun 2019   Prob (F-statistic):           0.000589\n",
      "Time:                        11:26:38   Log-Likelihood:                -1982.4\n",
      "No. Observations:                 949   AIC:                             3969.\n",
      "Df Residuals:                     947   BIC:                             3979.\n",
      "Df Model:                           1                                         \n",
      "Covariance Type:            nonrobust                                         \n",
      "==============================================================================\n",
      "                 coef    std err          t      P>|t|      [0.025      0.975]\n",
      "------------------------------------------------------------------------------\n",
      "const          0.1824      0.065      2.805      0.005       0.055       0.310\n",
      "0              0.2128      0.062      3.448      0.001       0.092       0.334\n",
      "==============================================================================\n",
      "Omnibus:                      357.895   Durbin-Watson:                   1.842\n",
      "Prob(Omnibus):                  0.000   Jarque-Bera (JB):            17766.061\n",
      "Skew:                           0.937   Prob(JB):                         0.00\n",
      "Kurtosis:                      24.114   Cond. No.                         1.25\n",
      "==============================================================================\n",
      "\n",
      "Warnings:\n",
      "[1] Standard Errors assume that the covariance matrix of the errors is correctly specified.\n"
     ]
    }
   ],
   "source": [
    "#第二部分，雙向當沖前後抓半年(2014/06/30)\n",
    "find_xy_data = find_xy('2017/4/28',1)\n",
    "x=find_xy_data[0]\n",
    "y=find_xy_data[1]\n",
    "test(x,y)"
   ]
  },
  {
   "cell_type": "code",
   "execution_count": 47,
   "metadata": {},
   "outputs": [
    {
     "name": "stdout",
     "output_type": "stream",
     "text": [
      "                            OLS Regression Results                            \n",
      "==============================================================================\n",
      "Dep. Variable:                      y   R-squared:                       0.012\n",
      "Model:                            OLS   Adj. R-squared:                  0.011\n",
      "Method:                 Least Squares   F-statistic:                     11.89\n",
      "Date:                Fri, 21 Jun 2019   Prob (F-statistic):           0.000589\n",
      "Time:                        11:26:42   Log-Likelihood:                -1982.4\n",
      "No. Observations:                 949   AIC:                             3969.\n",
      "Df Residuals:                     947   BIC:                             3979.\n",
      "Df Model:                           1                                         \n",
      "Covariance Type:            nonrobust                                         \n",
      "==============================================================================\n",
      "                 coef    std err          t      P>|t|      [0.025      0.975]\n",
      "------------------------------------------------------------------------------\n",
      "const          0.1824      0.065      2.805      0.005       0.055       0.310\n",
      "0              0.2128      0.062      3.448      0.001       0.092       0.334\n",
      "==============================================================================\n",
      "Omnibus:                      357.895   Durbin-Watson:                   1.842\n",
      "Prob(Omnibus):                  0.000   Jarque-Bera (JB):            17766.061\n",
      "Skew:                           0.937   Prob(JB):                         0.00\n",
      "Kurtosis:                      24.114   Cond. No.                         1.25\n",
      "==============================================================================\n",
      "\n",
      "Warnings:\n",
      "[1] Standard Errors assume that the covariance matrix of the errors is correctly specified.\n"
     ]
    }
   ],
   "source": [
    "#第二部分，雙向當沖前後抓半年(2014/06/30)\n",
    "find_xy_data = find_xy('2017/4/28',1)\n",
    "x=find_xy_data[0]\n",
    "y=find_xy_data[1]\n",
    "test(x,y)"
   ]
  },
  {
   "cell_type": "code",
   "execution_count": 48,
   "metadata": {},
   "outputs": [
    {
     "name": "stdout",
     "output_type": "stream",
     "text": [
      "                            OLS Regression Results                            \n",
      "==============================================================================\n",
      "Dep. Variable:                      y   R-squared:                       0.007\n",
      "Model:                            OLS   Adj. R-squared:                  0.006\n",
      "Method:                 Least Squares   F-statistic:                     6.492\n",
      "Date:                Fri, 21 Jun 2019   Prob (F-statistic):             0.0110\n",
      "Time:                        11:26:48   Log-Likelihood:                -2901.1\n",
      "No. Observations:                 949   AIC:                             5806.\n",
      "Df Residuals:                     947   BIC:                             5816.\n",
      "Df Model:                           1                                         \n",
      "Covariance Type:            nonrobust                                         \n",
      "==============================================================================\n",
      "                 coef    std err          t      P>|t|      [0.025      0.975]\n",
      "------------------------------------------------------------------------------\n",
      "const         -0.0256      0.175     -0.146      0.884      -0.370       0.318\n",
      "0             -0.3133      0.123     -2.548      0.011      -0.555      -0.072\n",
      "==============================================================================\n",
      "Omnibus:                      250.666   Durbin-Watson:                   1.841\n",
      "Prob(Omnibus):                  0.000   Jarque-Bera (JB):             2053.513\n",
      "Skew:                           0.967   Prob(JB):                         0.00\n",
      "Kurtosis:                       9.942   Cond. No.                         1.61\n",
      "==============================================================================\n",
      "\n",
      "Warnings:\n",
      "[1] Standard Errors assume that the covariance matrix of the errors is correctly specified.\n"
     ]
    }
   ],
   "source": [
    "#年報酬\n",
    "#第一部分，開放當沖~雙向當沖(2014/01/06~2014/06/30)\n",
    "find_xy_data = find_xy('2014/6/30',2)\n",
    "x=find_xy_data[0]\n",
    "y=find_xy_data[1]\n",
    "test(x,y)"
   ]
  },
  {
   "cell_type": "code",
   "execution_count": 49,
   "metadata": {},
   "outputs": [
    {
     "name": "stdout",
     "output_type": "stream",
     "text": [
      "                            OLS Regression Results                            \n",
      "==============================================================================\n",
      "Dep. Variable:                      y   R-squared:                       0.015\n",
      "Model:                            OLS   Adj. R-squared:                  0.014\n",
      "Method:                 Least Squares   F-statistic:                     14.76\n",
      "Date:                Fri, 21 Jun 2019   Prob (F-statistic):           0.000130\n",
      "Time:                        11:26:51   Log-Likelihood:                -2826.1\n",
      "No. Observations:                 949   AIC:                             5656.\n",
      "Df Residuals:                     947   BIC:                             5666.\n",
      "Df Model:                           1                                         \n",
      "Covariance Type:            nonrobust                                         \n",
      "==============================================================================\n",
      "                 coef    std err          t      P>|t|      [0.025      0.975]\n",
      "------------------------------------------------------------------------------\n",
      "const         -0.1565      0.158     -0.990      0.323      -0.467       0.154\n",
      "0              0.5769      0.150      3.842      0.000       0.282       0.872\n",
      "==============================================================================\n",
      "Omnibus:                      185.302   Durbin-Watson:                   1.898\n",
      "Prob(Omnibus):                  0.000   Jarque-Bera (JB):             4612.274\n",
      "Skew:                           0.025   Prob(JB):                         0.00\n",
      "Kurtosis:                      13.800   Cond. No.                         1.25\n",
      "==============================================================================\n",
      "\n",
      "Warnings:\n",
      "[1] Standard Errors assume that the covariance matrix of the errors is correctly specified.\n"
     ]
    }
   ],
   "source": [
    "#第二部分，雙向當沖前後抓半年(2014/06/30)\n",
    "find_xy_data = find_xy('2017/4/28',2)\n",
    "x=find_xy_data[0]\n",
    "y=find_xy_data[1]\n",
    "test(x,y)"
   ]
  },
  {
   "cell_type": "code",
   "execution_count": 50,
   "metadata": {},
   "outputs": [
    {
     "name": "stdout",
     "output_type": "stream",
     "text": [
      "                            OLS Regression Results                            \n",
      "==============================================================================\n",
      "Dep. Variable:                      y   R-squared:                       0.015\n",
      "Model:                            OLS   Adj. R-squared:                  0.014\n",
      "Method:                 Least Squares   F-statistic:                     14.76\n",
      "Date:                Fri, 21 Jun 2019   Prob (F-statistic):           0.000130\n",
      "Time:                        11:26:53   Log-Likelihood:                -2826.1\n",
      "No. Observations:                 949   AIC:                             5656.\n",
      "Df Residuals:                     947   BIC:                             5666.\n",
      "Df Model:                           1                                         \n",
      "Covariance Type:            nonrobust                                         \n",
      "==============================================================================\n",
      "                 coef    std err          t      P>|t|      [0.025      0.975]\n",
      "------------------------------------------------------------------------------\n",
      "const         -0.1565      0.158     -0.990      0.323      -0.467       0.154\n",
      "0              0.5769      0.150      3.842      0.000       0.282       0.872\n",
      "==============================================================================\n",
      "Omnibus:                      185.302   Durbin-Watson:                   1.898\n",
      "Prob(Omnibus):                  0.000   Jarque-Bera (JB):             4612.274\n",
      "Skew:                           0.025   Prob(JB):                         0.00\n",
      "Kurtosis:                      13.800   Cond. No.                         1.25\n",
      "==============================================================================\n",
      "\n",
      "Warnings:\n",
      "[1] Standard Errors assume that the covariance matrix of the errors is correctly specified.\n"
     ]
    }
   ],
   "source": [
    "#第二部分，雙向當沖前後抓半年(2014/06/30)\n",
    "find_xy_data = find_xy('2017/4/28',2)\n",
    "x=find_xy_data[0]\n",
    "y=find_xy_data[1]\n",
    "test(x,y)"
   ]
  }
 ],
 "metadata": {
  "kernelspec": {
   "display_name": "Python 3",
   "language": "python",
   "name": "python3"
  },
  "language_info": {
   "codemirror_mode": {
    "name": "ipython",
    "version": 3
   },
   "file_extension": ".py",
   "mimetype": "text/x-python",
   "name": "python",
   "nbconvert_exporter": "python",
   "pygments_lexer": "ipython3",
   "version": "3.7.1"
  }
 },
 "nbformat": 4,
 "nbformat_minor": 2
}
