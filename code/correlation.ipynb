{
 "cells": [
  {
   "cell_type": "code",
   "execution_count": 41,
   "metadata": {},
   "outputs": [],
   "source": [
    "import numpy as np\n",
    "import pandas as pd\n",
    "from openpyxl import load_workbook"
   ]
  },
  {
   "cell_type": "code",
   "execution_count": 43,
   "metadata": {},
   "outputs": [],
   "source": [
    "df_assets = pd.read_excel(\"資產總額/上市櫃20160428-20180428.xlsx\",index_col='公司').dropna()\n",
    "df_assets.head()\n",
    "corr_a = df_assets['log(assets)'].mean()"
   ]
  },
  {
   "cell_type": "code",
   "execution_count": 39,
   "metadata": {},
   "outputs": [
    {
     "data": {
      "text/html": [
       "<div>\n",
       "<style scoped>\n",
       "    .dataframe tbody tr th:only-of-type {\n",
       "        vertical-align: middle;\n",
       "    }\n",
       "\n",
       "    .dataframe tbody tr th {\n",
       "        vertical-align: top;\n",
       "    }\n",
       "\n",
       "    .dataframe thead th {\n",
       "        text-align: right;\n",
       "    }\n",
       "</style>\n",
       "<table border=\"1\" class=\"dataframe\">\n",
       "  <thead>\n",
       "    <tr style=\"text-align: right;\">\n",
       "      <th></th>\n",
       "      <th>證券代碼</th>\n",
       "      <th>mean</th>\n",
       "    </tr>\n",
       "  </thead>\n",
       "  <tbody>\n",
       "    <tr>\n",
       "      <th>3</th>\n",
       "      <td>1101 台泥</td>\n",
       "      <td>4.119633</td>\n",
       "    </tr>\n",
       "    <tr>\n",
       "      <th>7</th>\n",
       "      <td>1102 亞泥</td>\n",
       "      <td>3.968045</td>\n",
       "    </tr>\n",
       "    <tr>\n",
       "      <th>11</th>\n",
       "      <td>1103 嘉泥</td>\n",
       "      <td>3.228534</td>\n",
       "    </tr>\n",
       "    <tr>\n",
       "      <th>15</th>\n",
       "      <td>1104 環泥</td>\n",
       "      <td>1.096456</td>\n",
       "    </tr>\n",
       "    <tr>\n",
       "      <th>19</th>\n",
       "      <td>1108 幸福</td>\n",
       "      <td>1.813727</td>\n",
       "    </tr>\n",
       "  </tbody>\n",
       "</table>\n",
       "</div>"
      ],
      "text/plain": [
       "       證券代碼      mean\n",
       "3   1101 台泥  4.119633\n",
       "7   1102 亞泥  3.968045\n",
       "11  1103 嘉泥  3.228534\n",
       "15  1104 環泥  1.096456\n",
       "19  1108 幸福  1.813727"
      ]
     },
     "execution_count": 39,
     "metadata": {},
     "output_type": "execute_result"
    }
   ],
   "source": [
    "df_day_trade = pd.read_csv(\"報酬率_pei/日報酬csv/上市上櫃公司20160428_20180428.csv\")[3::4]\n",
    "df_day_trade['mean'] = df_day_trade.mean(axis=1)\n",
    "df_day_trade = df_day_trade[['證券代碼','mean']]\n",
    "df_day_trade.head()"
   ]
  },
  {
   "cell_type": "code",
   "execution_count": 44,
   "metadata": {},
   "outputs": [
    {
     "data": {
      "text/plain": [
       "Index(['1210 大成', '1312 國喬', '1321 大洋', '1341 富林-KY', '1409 新纖', '1435 中福',\n",
       "       '1445 大宇', '1470 大統新創', '1472 三洋紡', '1525 江申',\n",
       "       ...\n",
       "       '8482 商億-KY', '8489 三貝德', '8933 愛地雅', '8936 國統', '8941 關中', '9905 大華',\n",
       "       '9912 偉聯', '9927 泰銘', '9942 茂順', '9943 好樂迪'],\n",
       "      dtype='object', name='公司', length=182)"
      ]
     },
     "execution_count": 44,
     "metadata": {},
     "output_type": "execute_result"
    }
   ],
   "source": [
    "df_assets.index"
   ]
  },
  {
   "cell_type": "code",
   "execution_count": null,
   "metadata": {},
   "outputs": [],
   "source": [
    "for comp in range(len(df_day_trade)):\n",
    "    "
   ]
  }
 ],
 "metadata": {
  "kernelspec": {
   "display_name": "Python 3",
   "language": "python",
   "name": "python3"
  },
  "language_info": {
   "codemirror_mode": {
    "name": "ipython",
    "version": 3
   },
   "file_extension": ".py",
   "mimetype": "text/x-python",
   "name": "python",
   "nbconvert_exporter": "python",
   "pygments_lexer": "ipython3",
   "version": "3.7.3"
  }
 },
 "nbformat": 4,
 "nbformat_minor": 2
}
