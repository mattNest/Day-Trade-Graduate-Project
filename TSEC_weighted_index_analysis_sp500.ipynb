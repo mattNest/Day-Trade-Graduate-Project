{
 "cells": [
  {
   "cell_type": "code",
   "execution_count": 1,
   "metadata": {},
   "outputs": [],
   "source": [
    "import datetime as dt\n",
    "import numpy as np\n",
    "import pandas as pd\n",
    "import numpy as np\n",
    "import matplotlib.pyplot as plt\n",
    "%matplotlib inline"
   ]
  },
  {
   "cell_type": "code",
   "execution_count": 2,
   "metadata": {},
   "outputs": [],
   "source": [
    "tw_weighted = pd.read_csv('TSEC_weighted_index.csv') # 2015/04/30 ~ 2019/04/29"
   ]
  },
  {
   "cell_type": "code",
   "execution_count": 3,
   "metadata": {},
   "outputs": [
    {
     "data": {
      "text/html": [
       "<div>\n",
       "<style scoped>\n",
       "    .dataframe tbody tr th:only-of-type {\n",
       "        vertical-align: middle;\n",
       "    }\n",
       "\n",
       "    .dataframe tbody tr th {\n",
       "        vertical-align: top;\n",
       "    }\n",
       "\n",
       "    .dataframe thead th {\n",
       "        text-align: right;\n",
       "    }\n",
       "</style>\n",
       "<table border=\"1\" class=\"dataframe\">\n",
       "  <thead>\n",
       "    <tr style=\"text-align: right;\">\n",
       "      <th></th>\n",
       "      <th>Date</th>\n",
       "      <th>Open</th>\n",
       "      <th>High</th>\n",
       "      <th>Low</th>\n",
       "      <th>Close</th>\n",
       "      <th>Adj Close</th>\n",
       "      <th>Volume</th>\n",
       "    </tr>\n",
       "  </thead>\n",
       "  <tbody>\n",
       "    <tr>\n",
       "      <th>0</th>\n",
       "      <td>2015-04-30</td>\n",
       "      <td>9841.150391</td>\n",
       "      <td>9894.900391</td>\n",
       "      <td>9820.049805</td>\n",
       "      <td>9820.049805</td>\n",
       "      <td>9820.012695</td>\n",
       "      <td>2644700.0</td>\n",
       "    </tr>\n",
       "    <tr>\n",
       "      <th>1</th>\n",
       "      <td>2015-05-04</td>\n",
       "      <td>9853.509766</td>\n",
       "      <td>9871.650391</td>\n",
       "      <td>9800.480469</td>\n",
       "      <td>9845.040039</td>\n",
       "      <td>9845.002930</td>\n",
       "      <td>2298800.0</td>\n",
       "    </tr>\n",
       "    <tr>\n",
       "      <th>2</th>\n",
       "      <td>2015-05-05</td>\n",
       "      <td>9849.129883</td>\n",
       "      <td>9855.639648</td>\n",
       "      <td>9788.129883</td>\n",
       "      <td>9820.129883</td>\n",
       "      <td>9820.092773</td>\n",
       "      <td>2134800.0</td>\n",
       "    </tr>\n",
       "    <tr>\n",
       "      <th>3</th>\n",
       "      <td>2015-05-06</td>\n",
       "      <td>9780.389648</td>\n",
       "      <td>9829.429688</td>\n",
       "      <td>9735.940430</td>\n",
       "      <td>9818.200195</td>\n",
       "      <td>9818.163086</td>\n",
       "      <td>2353700.0</td>\n",
       "    </tr>\n",
       "    <tr>\n",
       "      <th>4</th>\n",
       "      <td>2015-05-07</td>\n",
       "      <td>9789.820313</td>\n",
       "      <td>9789.820313</td>\n",
       "      <td>9704.110352</td>\n",
       "      <td>9704.110352</td>\n",
       "      <td>9704.073242</td>\n",
       "      <td>2315900.0</td>\n",
       "    </tr>\n",
       "  </tbody>\n",
       "</table>\n",
       "</div>"
      ],
      "text/plain": [
       "         Date         Open         High          Low        Close  \\\n",
       "0  2015-04-30  9841.150391  9894.900391  9820.049805  9820.049805   \n",
       "1  2015-05-04  9853.509766  9871.650391  9800.480469  9845.040039   \n",
       "2  2015-05-05  9849.129883  9855.639648  9788.129883  9820.129883   \n",
       "3  2015-05-06  9780.389648  9829.429688  9735.940430  9818.200195   \n",
       "4  2015-05-07  9789.820313  9789.820313  9704.110352  9704.110352   \n",
       "\n",
       "     Adj Close     Volume  \n",
       "0  9820.012695  2644700.0  \n",
       "1  9845.002930  2298800.0  \n",
       "2  9820.092773  2134800.0  \n",
       "3  9818.163086  2353700.0  \n",
       "4  9704.073242  2315900.0  "
      ]
     },
     "execution_count": 3,
     "metadata": {},
     "output_type": "execute_result"
    }
   ],
   "source": [
    "tw_weighted.head()"
   ]
  },
  {
   "cell_type": "code",
   "execution_count": 4,
   "metadata": {},
   "outputs": [],
   "source": [
    "tw_weighted_adjclose_volume = tw_weighted[['Date','Adj Close','Volume']] # slice出調整後收盤價跟交易量"
   ]
  },
  {
   "cell_type": "code",
   "execution_count": 5,
   "metadata": {},
   "outputs": [
    {
     "data": {
      "text/html": [
       "<div>\n",
       "<style scoped>\n",
       "    .dataframe tbody tr th:only-of-type {\n",
       "        vertical-align: middle;\n",
       "    }\n",
       "\n",
       "    .dataframe tbody tr th {\n",
       "        vertical-align: top;\n",
       "    }\n",
       "\n",
       "    .dataframe thead th {\n",
       "        text-align: right;\n",
       "    }\n",
       "</style>\n",
       "<table border=\"1\" class=\"dataframe\">\n",
       "  <thead>\n",
       "    <tr style=\"text-align: right;\">\n",
       "      <th></th>\n",
       "      <th>Date</th>\n",
       "      <th>Adj Close</th>\n",
       "      <th>Volume</th>\n",
       "    </tr>\n",
       "  </thead>\n",
       "  <tbody>\n",
       "    <tr>\n",
       "      <th>0</th>\n",
       "      <td>2015-04-30</td>\n",
       "      <td>9820.012695</td>\n",
       "      <td>2644700.0</td>\n",
       "    </tr>\n",
       "    <tr>\n",
       "      <th>1</th>\n",
       "      <td>2015-05-04</td>\n",
       "      <td>9845.002930</td>\n",
       "      <td>2298800.0</td>\n",
       "    </tr>\n",
       "    <tr>\n",
       "      <th>2</th>\n",
       "      <td>2015-05-05</td>\n",
       "      <td>9820.092773</td>\n",
       "      <td>2134800.0</td>\n",
       "    </tr>\n",
       "    <tr>\n",
       "      <th>3</th>\n",
       "      <td>2015-05-06</td>\n",
       "      <td>9818.163086</td>\n",
       "      <td>2353700.0</td>\n",
       "    </tr>\n",
       "    <tr>\n",
       "      <th>4</th>\n",
       "      <td>2015-05-07</td>\n",
       "      <td>9704.073242</td>\n",
       "      <td>2315900.0</td>\n",
       "    </tr>\n",
       "  </tbody>\n",
       "</table>\n",
       "</div>"
      ],
      "text/plain": [
       "         Date    Adj Close     Volume\n",
       "0  2015-04-30  9820.012695  2644700.0\n",
       "1  2015-05-04  9845.002930  2298800.0\n",
       "2  2015-05-05  9820.092773  2134800.0\n",
       "3  2015-05-06  9818.163086  2353700.0\n",
       "4  2015-05-07  9704.073242  2315900.0"
      ]
     },
     "execution_count": 5,
     "metadata": {},
     "output_type": "execute_result"
    }
   ],
   "source": [
    "tw_weighted_adjclose_volume.head()"
   ]
  },
  {
   "cell_type": "code",
   "execution_count": 6,
   "metadata": {},
   "outputs": [],
   "source": [
    "sp500 = pd.read_csv('^GSPC.csv') # 2015/04/29 - 2019/04/26"
   ]
  },
  {
   "cell_type": "code",
   "execution_count": 7,
   "metadata": {},
   "outputs": [
    {
     "data": {
      "text/html": [
       "<div>\n",
       "<style scoped>\n",
       "    .dataframe tbody tr th:only-of-type {\n",
       "        vertical-align: middle;\n",
       "    }\n",
       "\n",
       "    .dataframe tbody tr th {\n",
       "        vertical-align: top;\n",
       "    }\n",
       "\n",
       "    .dataframe thead th {\n",
       "        text-align: right;\n",
       "    }\n",
       "</style>\n",
       "<table border=\"1\" class=\"dataframe\">\n",
       "  <thead>\n",
       "    <tr style=\"text-align: right;\">\n",
       "      <th></th>\n",
       "      <th>Date</th>\n",
       "      <th>Open</th>\n",
       "      <th>High</th>\n",
       "      <th>Low</th>\n",
       "      <th>Close</th>\n",
       "      <th>Adj Close</th>\n",
       "      <th>Volume</th>\n",
       "    </tr>\n",
       "  </thead>\n",
       "  <tbody>\n",
       "    <tr>\n",
       "      <th>0</th>\n",
       "      <td>2015-04-29</td>\n",
       "      <td>2112.489990</td>\n",
       "      <td>2113.649902</td>\n",
       "      <td>2097.409912</td>\n",
       "      <td>2106.850098</td>\n",
       "      <td>2106.850098</td>\n",
       "      <td>4074970000</td>\n",
       "    </tr>\n",
       "    <tr>\n",
       "      <th>1</th>\n",
       "      <td>2015-04-30</td>\n",
       "      <td>2105.520020</td>\n",
       "      <td>2105.520020</td>\n",
       "      <td>2077.590088</td>\n",
       "      <td>2085.510010</td>\n",
       "      <td>2085.510010</td>\n",
       "      <td>4509680000</td>\n",
       "    </tr>\n",
       "    <tr>\n",
       "      <th>2</th>\n",
       "      <td>2015-05-01</td>\n",
       "      <td>2087.379883</td>\n",
       "      <td>2108.409912</td>\n",
       "      <td>2087.379883</td>\n",
       "      <td>2108.290039</td>\n",
       "      <td>2108.290039</td>\n",
       "      <td>3379390000</td>\n",
       "    </tr>\n",
       "    <tr>\n",
       "      <th>3</th>\n",
       "      <td>2015-05-04</td>\n",
       "      <td>2110.229980</td>\n",
       "      <td>2120.949951</td>\n",
       "      <td>2110.229980</td>\n",
       "      <td>2114.489990</td>\n",
       "      <td>2114.489990</td>\n",
       "      <td>3091580000</td>\n",
       "    </tr>\n",
       "    <tr>\n",
       "      <th>4</th>\n",
       "      <td>2015-05-05</td>\n",
       "      <td>2112.629883</td>\n",
       "      <td>2115.239990</td>\n",
       "      <td>2088.459961</td>\n",
       "      <td>2089.459961</td>\n",
       "      <td>2089.459961</td>\n",
       "      <td>3793950000</td>\n",
       "    </tr>\n",
       "  </tbody>\n",
       "</table>\n",
       "</div>"
      ],
      "text/plain": [
       "         Date         Open         High          Low        Close  \\\n",
       "0  2015-04-29  2112.489990  2113.649902  2097.409912  2106.850098   \n",
       "1  2015-04-30  2105.520020  2105.520020  2077.590088  2085.510010   \n",
       "2  2015-05-01  2087.379883  2108.409912  2087.379883  2108.290039   \n",
       "3  2015-05-04  2110.229980  2120.949951  2110.229980  2114.489990   \n",
       "4  2015-05-05  2112.629883  2115.239990  2088.459961  2089.459961   \n",
       "\n",
       "     Adj Close      Volume  \n",
       "0  2106.850098  4074970000  \n",
       "1  2085.510010  4509680000  \n",
       "2  2108.290039  3379390000  \n",
       "3  2114.489990  3091580000  \n",
       "4  2089.459961  3793950000  "
      ]
     },
     "execution_count": 7,
     "metadata": {},
     "output_type": "execute_result"
    }
   ],
   "source": [
    "sp500.head()"
   ]
  },
  {
   "cell_type": "code",
   "execution_count": 8,
   "metadata": {},
   "outputs": [],
   "source": [
    "sp500_adjclose_volume = sp500[['Date','Adj Close','Volume']]"
   ]
  },
  {
   "cell_type": "code",
   "execution_count": 9,
   "metadata": {},
   "outputs": [
    {
     "data": {
      "text/html": [
       "<div>\n",
       "<style scoped>\n",
       "    .dataframe tbody tr th:only-of-type {\n",
       "        vertical-align: middle;\n",
       "    }\n",
       "\n",
       "    .dataframe tbody tr th {\n",
       "        vertical-align: top;\n",
       "    }\n",
       "\n",
       "    .dataframe thead th {\n",
       "        text-align: right;\n",
       "    }\n",
       "</style>\n",
       "<table border=\"1\" class=\"dataframe\">\n",
       "  <thead>\n",
       "    <tr style=\"text-align: right;\">\n",
       "      <th></th>\n",
       "      <th>Date</th>\n",
       "      <th>Adj Close</th>\n",
       "      <th>Volume</th>\n",
       "    </tr>\n",
       "  </thead>\n",
       "  <tbody>\n",
       "    <tr>\n",
       "      <th>0</th>\n",
       "      <td>2015-04-29</td>\n",
       "      <td>2106.850098</td>\n",
       "      <td>4074970000</td>\n",
       "    </tr>\n",
       "    <tr>\n",
       "      <th>1</th>\n",
       "      <td>2015-04-30</td>\n",
       "      <td>2085.510010</td>\n",
       "      <td>4509680000</td>\n",
       "    </tr>\n",
       "    <tr>\n",
       "      <th>2</th>\n",
       "      <td>2015-05-01</td>\n",
       "      <td>2108.290039</td>\n",
       "      <td>3379390000</td>\n",
       "    </tr>\n",
       "    <tr>\n",
       "      <th>3</th>\n",
       "      <td>2015-05-04</td>\n",
       "      <td>2114.489990</td>\n",
       "      <td>3091580000</td>\n",
       "    </tr>\n",
       "    <tr>\n",
       "      <th>4</th>\n",
       "      <td>2015-05-05</td>\n",
       "      <td>2089.459961</td>\n",
       "      <td>3793950000</td>\n",
       "    </tr>\n",
       "  </tbody>\n",
       "</table>\n",
       "</div>"
      ],
      "text/plain": [
       "         Date    Adj Close      Volume\n",
       "0  2015-04-29  2106.850098  4074970000\n",
       "1  2015-04-30  2085.510010  4509680000\n",
       "2  2015-05-01  2108.290039  3379390000\n",
       "3  2015-05-04  2114.489990  3091580000\n",
       "4  2015-05-05  2089.459961  3793950000"
      ]
     },
     "execution_count": 9,
     "metadata": {},
     "output_type": "execute_result"
    }
   ],
   "source": [
    "sp500_adjclose_volume.head()"
   ]
  },
  {
   "cell_type": "code",
   "execution_count": 10,
   "metadata": {},
   "outputs": [],
   "source": [
    "newdf = pd.merge(tw_weighted_adjclose_volume, sp500_adjclose_volume, on='Date', how='inner')\n",
    "newdf = newdf.dropna() # drop null value"
   ]
  },
  {
   "cell_type": "code",
   "execution_count": 11,
   "metadata": {},
   "outputs": [
    {
     "data": {
      "text/html": [
       "<div>\n",
       "<style scoped>\n",
       "    .dataframe tbody tr th:only-of-type {\n",
       "        vertical-align: middle;\n",
       "    }\n",
       "\n",
       "    .dataframe tbody tr th {\n",
       "        vertical-align: top;\n",
       "    }\n",
       "\n",
       "    .dataframe thead th {\n",
       "        text-align: right;\n",
       "    }\n",
       "</style>\n",
       "<table border=\"1\" class=\"dataframe\">\n",
       "  <thead>\n",
       "    <tr style=\"text-align: right;\">\n",
       "      <th></th>\n",
       "      <th>Date</th>\n",
       "      <th>Adj Close_x</th>\n",
       "      <th>Volume_x</th>\n",
       "      <th>Adj Close_y</th>\n",
       "      <th>Volume_y</th>\n",
       "    </tr>\n",
       "  </thead>\n",
       "  <tbody>\n",
       "    <tr>\n",
       "      <th>0</th>\n",
       "      <td>2015-04-30</td>\n",
       "      <td>9820.012695</td>\n",
       "      <td>2644700.0</td>\n",
       "      <td>2085.510010</td>\n",
       "      <td>4509680000</td>\n",
       "    </tr>\n",
       "    <tr>\n",
       "      <th>1</th>\n",
       "      <td>2015-05-04</td>\n",
       "      <td>9845.002930</td>\n",
       "      <td>2298800.0</td>\n",
       "      <td>2114.489990</td>\n",
       "      <td>3091580000</td>\n",
       "    </tr>\n",
       "    <tr>\n",
       "      <th>2</th>\n",
       "      <td>2015-05-05</td>\n",
       "      <td>9820.092773</td>\n",
       "      <td>2134800.0</td>\n",
       "      <td>2089.459961</td>\n",
       "      <td>3793950000</td>\n",
       "    </tr>\n",
       "    <tr>\n",
       "      <th>3</th>\n",
       "      <td>2015-05-06</td>\n",
       "      <td>9818.163086</td>\n",
       "      <td>2353700.0</td>\n",
       "      <td>2080.149902</td>\n",
       "      <td>3792210000</td>\n",
       "    </tr>\n",
       "    <tr>\n",
       "      <th>4</th>\n",
       "      <td>2015-05-07</td>\n",
       "      <td>9704.073242</td>\n",
       "      <td>2315900.0</td>\n",
       "      <td>2088.000000</td>\n",
       "      <td>3676640000</td>\n",
       "    </tr>\n",
       "  </tbody>\n",
       "</table>\n",
       "</div>"
      ],
      "text/plain": [
       "         Date  Adj Close_x   Volume_x  Adj Close_y    Volume_y\n",
       "0  2015-04-30  9820.012695  2644700.0  2085.510010  4509680000\n",
       "1  2015-05-04  9845.002930  2298800.0  2114.489990  3091580000\n",
       "2  2015-05-05  9820.092773  2134800.0  2089.459961  3793950000\n",
       "3  2015-05-06  9818.163086  2353700.0  2080.149902  3792210000\n",
       "4  2015-05-07  9704.073242  2315900.0  2088.000000  3676640000"
      ]
     },
     "execution_count": 11,
     "metadata": {},
     "output_type": "execute_result"
    }
   ],
   "source": [
    "newdf.head()"
   ]
  },
  {
   "cell_type": "markdown",
   "metadata": {},
   "source": [
    "### 目標：利用S&P 500的Adj Close當label，台股大盤加權指數Adj Close當target"
   ]
  },
  {
   "cell_type": "code",
   "execution_count": 12,
   "metadata": {},
   "outputs": [],
   "source": [
    "X = newdf.iloc[:, 3].values\n",
    "y = newdf.iloc[:, 1].values"
   ]
  },
  {
   "cell_type": "code",
   "execution_count": 13,
   "metadata": {},
   "outputs": [
    {
     "data": {
      "text/plain": [
       "(941,)"
      ]
     },
     "execution_count": 13,
     "metadata": {},
     "output_type": "execute_result"
    }
   ],
   "source": [
    "X.shape"
   ]
  },
  {
   "cell_type": "code",
   "execution_count": 14,
   "metadata": {},
   "outputs": [
    {
     "data": {
      "text/plain": [
       "(941,)"
      ]
     },
     "execution_count": 14,
     "metadata": {},
     "output_type": "execute_result"
    }
   ],
   "source": [
    "y.shape"
   ]
  },
  {
   "cell_type": "code",
   "execution_count": 15,
   "metadata": {},
   "outputs": [
    {
     "data": {
      "text/plain": [
       "<matplotlib.collections.PathCollection at 0x10e560588>"
      ]
     },
     "execution_count": 15,
     "metadata": {},
     "output_type": "execute_result"
    },
    {
     "data": {
      "image/png": "[encoded data removed]",
      "text/plain": [
       "<Figure size 432x288 with 1 Axes>"
      ]
     },
     "metadata": {
      "needs_background": "light"
     },
     "output_type": "display_data"
    }
   ],
   "source": [
    "plt.scatter(X,y)"
   ]
  },
  {
   "cell_type": "code",
   "execution_count": 16,
   "metadata": {},
   "outputs": [],
   "source": [
    "from sklearn.model_selection import train_test_split"
   ]
  },
  {
   "cell_type": "code",
   "execution_count": 17,
   "metadata": {},
   "outputs": [],
   "source": [
    "X_train, X_test, y_train, y_test = train_test_split(X, y, test_size = 0.25, random_state = 0)"
   ]
  },
  {
   "cell_type": "code",
   "execution_count": 18,
   "metadata": {},
   "outputs": [
    {
     "data": {
      "text/plain": [
       "<matplotlib.collections.PathCollection at 0x1a135926d8>"
      ]
     },
     "execution_count": 18,
     "metadata": {},
     "output_type": "execute_result"
    },
    {
     "data": {
      "image/png": "[encoded data removed]",
      "text/plain": [
       "<Figure size 432x288 with 1 Axes>"
      ]
     },
     "metadata": {
      "needs_background": "light"
     },
     "output_type": "display_data"
    }
   ],
   "source": [
    "plt.scatter(X_train, y_train)"
   ]
  },
  {
   "cell_type": "code",
   "execution_count": 19,
   "metadata": {},
   "outputs": [
    {
     "data": {
      "text/plain": [
       "LinearRegression(copy_X=True, fit_intercept=True, n_jobs=None,\n",
       "         normalize=False)"
      ]
     },
     "execution_count": 19,
     "metadata": {},
     "output_type": "execute_result"
    }
   ],
   "source": [
    "# Fitting Lineaer Regressioin to the dataset\n",
    "from sklearn.linear_model import LinearRegression\n",
    "lin_reg = LinearRegression()\n",
    "X_train = X_train.reshape(-1,1)\n",
    "lin_reg.fit(X_train, y_train)"
   ]
  },
  {
   "cell_type": "code",
   "execution_count": 20,
   "metadata": {},
   "outputs": [],
   "source": [
    "from sklearn.preprocessing import PolynomialFeatures\n",
    "from sklearn.pipeline import Pipeline\n",
    "poly = PolynomialFeatures(degree=2)\n",
    "pipeline = Pipeline(\n",
    "    [('poly', poly),('lin reg', lin_reg)]\n",
    ")"
   ]
  },
  {
   "cell_type": "code",
   "execution_count": 21,
   "metadata": {},
   "outputs": [
    {
     "data": {
      "text/plain": [
       "Pipeline(memory=None,\n",
       "     steps=[('poly', PolynomialFeatures(degree=2, include_bias=True, interaction_only=False)), ('lin reg', LinearRegression(copy_X=True, fit_intercept=True, n_jobs=None,\n",
       "         normalize=False))])"
      ]
     },
     "execution_count": 21,
     "metadata": {},
     "output_type": "execute_result"
    }
   ],
   "source": [
    "pipeline.fit(X_train,y_train)"
   ]
  },
  {
   "cell_type": "markdown",
   "metadata": {},
   "source": [
    "### 利用S&P 500 polynomial (degree=2) 估計台股大盤指數"
   ]
  },
  {
   "cell_type": "code",
   "execution_count": 23,
   "metadata": {},
   "outputs": [],
   "source": [
    "X_test = X_test.reshape(-1,1)\n",
    "y_pred_2 = pipeline.predict(X_test)"
   ]
  },
  {
   "cell_type": "code",
   "execution_count": 27,
   "metadata": {},
   "outputs": [
    {
     "data": {
      "text/plain": [
       "Text(0, 0.5, 'S&P')"
      ]
     },
     "execution_count": 27,
     "metadata": {},
     "output_type": "execute_result"
    },
    {
     "data": {
      "image/png": "[encoded data removed]",
      "text/plain": [
       "<Figure size 432x288 with 1 Axes>"
      ]
     },
     "metadata": {
      "needs_background": "light"
     },
     "output_type": "display_data"
    }
   ],
   "source": [
    "plt.scatter(X_test, y_test)\n",
    "plt.scatter(X_test, y_pred_2)\n",
    "plt.xlabel('TW weighted Index')\n",
    "plt.ylabel('S&P')"
   ]
  },
  {
   "cell_type": "code",
   "execution_count": 25,
   "metadata": {},
   "outputs": [
    {
     "name": "stdout",
     "output_type": "stream",
     "text": [
      "Prediction score: 0.8604586655949543\n"
     ]
    }
   ],
   "source": [
    "print('Prediction score:', pipeline.score(X_train, y_train))"
   ]
  },
  {
   "cell_type": "code",
   "execution_count": null,
   "metadata": {},
   "outputs": [],
   "source": []
  }
 ],
 "metadata": {
  "kernelspec": {
   "display_name": "Python 3",
   "language": "python",
   "name": "python3"
  },
  "language_info": {
   "codemirror_mode": {
    "name": "ipython",
    "version": 3
   },
   "file_extension": ".py",
   "mimetype": "text/x-python",
   "name": "python",
   "nbconvert_exporter": "python",
   "pygments_lexer": "ipython3",
   "version": "3.7.1"
  }
 },
 "nbformat": 4,
 "nbformat_minor": 2
}
