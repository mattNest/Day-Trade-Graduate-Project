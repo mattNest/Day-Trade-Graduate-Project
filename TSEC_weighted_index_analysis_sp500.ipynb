{
 "cells": [
  {
   "cell_type": "code",
   "execution_count": 6,
   "metadata": {},
   "outputs": [],
   "source": [
    "import datetime as dt\n",
    "import numpy as np\n",
    "import pandas as pd\n",
    "import numpy as np\n",
    "import matplotlib.pyplot as plt\n",
    "%matplotlib inline"
   ]
  },
  {
   "cell_type": "code",
   "execution_count": 46,
   "metadata": {},
   "outputs": [],
   "source": [
    "tw_weighted = pd.read_csv('TSEC_weighted_index.csv', index_col='Date', parse_dates=True) # 2015/04/30 ~ 2019/04/29"
   ]
  },
  {
   "cell_type": "code",
   "execution_count": 47,
   "metadata": {},
   "outputs": [
    {
     "data": {
      "text/html": [
       "<div>\n",
       "<style scoped>\n",
       "    .dataframe tbody tr th:only-of-type {\n",
       "        vertical-align: middle;\n",
       "    }\n",
       "\n",
       "    .dataframe tbody tr th {\n",
       "        vertical-align: top;\n",
       "    }\n",
       "\n",
       "    .dataframe thead th {\n",
       "        text-align: right;\n",
       "    }\n",
       "</style>\n",
       "<table border=\"1\" class=\"dataframe\">\n",
       "  <thead>\n",
       "    <tr style=\"text-align: right;\">\n",
       "      <th></th>\n",
       "      <th>Open</th>\n",
       "      <th>High</th>\n",
       "      <th>Low</th>\n",
       "      <th>Close</th>\n",
       "      <th>Adj Close</th>\n",
       "      <th>Volume</th>\n",
       "    </tr>\n",
       "    <tr>\n",
       "      <th>Date</th>\n",
       "      <th></th>\n",
       "      <th></th>\n",
       "      <th></th>\n",
       "      <th></th>\n",
       "      <th></th>\n",
       "      <th></th>\n",
       "    </tr>\n",
       "  </thead>\n",
       "  <tbody>\n",
       "    <tr>\n",
       "      <th>2015-04-30</th>\n",
       "      <td>9841.150391</td>\n",
       "      <td>9894.900391</td>\n",
       "      <td>9820.049805</td>\n",
       "      <td>9820.049805</td>\n",
       "      <td>9820.012695</td>\n",
       "      <td>2644700.0</td>\n",
       "    </tr>\n",
       "    <tr>\n",
       "      <th>2015-05-04</th>\n",
       "      <td>9853.509766</td>\n",
       "      <td>9871.650391</td>\n",
       "      <td>9800.480469</td>\n",
       "      <td>9845.040039</td>\n",
       "      <td>9845.002930</td>\n",
       "      <td>2298800.0</td>\n",
       "    </tr>\n",
       "    <tr>\n",
       "      <th>2015-05-05</th>\n",
       "      <td>9849.129883</td>\n",
       "      <td>9855.639648</td>\n",
       "      <td>9788.129883</td>\n",
       "      <td>9820.129883</td>\n",
       "      <td>9820.092773</td>\n",
       "      <td>2134800.0</td>\n",
       "    </tr>\n",
       "    <tr>\n",
       "      <th>2015-05-06</th>\n",
       "      <td>9780.389648</td>\n",
       "      <td>9829.429688</td>\n",
       "      <td>9735.940430</td>\n",
       "      <td>9818.200195</td>\n",
       "      <td>9818.163086</td>\n",
       "      <td>2353700.0</td>\n",
       "    </tr>\n",
       "    <tr>\n",
       "      <th>2015-05-07</th>\n",
       "      <td>9789.820313</td>\n",
       "      <td>9789.820313</td>\n",
       "      <td>9704.110352</td>\n",
       "      <td>9704.110352</td>\n",
       "      <td>9704.073242</td>\n",
       "      <td>2315900.0</td>\n",
       "    </tr>\n",
       "  </tbody>\n",
       "</table>\n",
       "</div>"
      ],
      "text/plain": [
       "                   Open         High          Low        Close    Adj Close  \\\n",
       "Date                                                                          \n",
       "2015-04-30  9841.150391  9894.900391  9820.049805  9820.049805  9820.012695   \n",
       "2015-05-04  9853.509766  9871.650391  9800.480469  9845.040039  9845.002930   \n",
       "2015-05-05  9849.129883  9855.639648  9788.129883  9820.129883  9820.092773   \n",
       "2015-05-06  9780.389648  9829.429688  9735.940430  9818.200195  9818.163086   \n",
       "2015-05-07  9789.820313  9789.820313  9704.110352  9704.110352  9704.073242   \n",
       "\n",
       "               Volume  \n",
       "Date                   \n",
       "2015-04-30  2644700.0  \n",
       "2015-05-04  2298800.0  \n",
       "2015-05-05  2134800.0  \n",
       "2015-05-06  2353700.0  \n",
       "2015-05-07  2315900.0  "
      ]
     },
     "execution_count": 47,
     "metadata": {},
     "output_type": "execute_result"
    }
   ],
   "source": [
    "tw_weighted.head()"
   ]
  },
  {
   "cell_type": "code",
   "execution_count": 75,
   "metadata": {},
   "outputs": [],
   "source": [
    "tw_weighted_adjclose_volume = tw_weighted[['Adj Close','Volume']] # slice出調整後收盤價跟交易量"
   ]
  },
  {
   "cell_type": "code",
   "execution_count": 76,
   "metadata": {},
   "outputs": [
    {
     "data": {
      "text/html": [
       "<div>\n",
       "<style scoped>\n",
       "    .dataframe tbody tr th:only-of-type {\n",
       "        vertical-align: middle;\n",
       "    }\n",
       "\n",
       "    .dataframe tbody tr th {\n",
       "        vertical-align: top;\n",
       "    }\n",
       "\n",
       "    .dataframe thead th {\n",
       "        text-align: right;\n",
       "    }\n",
       "</style>\n",
       "<table border=\"1\" class=\"dataframe\">\n",
       "  <thead>\n",
       "    <tr style=\"text-align: right;\">\n",
       "      <th></th>\n",
       "      <th>Adj Close</th>\n",
       "      <th>Volume</th>\n",
       "    </tr>\n",
       "    <tr>\n",
       "      <th>Date</th>\n",
       "      <th></th>\n",
       "      <th></th>\n",
       "    </tr>\n",
       "  </thead>\n",
       "  <tbody>\n",
       "    <tr>\n",
       "      <th>2015-04-30</th>\n",
       "      <td>9820.012695</td>\n",
       "      <td>2644700.0</td>\n",
       "    </tr>\n",
       "    <tr>\n",
       "      <th>2015-05-04</th>\n",
       "      <td>9845.002930</td>\n",
       "      <td>2298800.0</td>\n",
       "    </tr>\n",
       "    <tr>\n",
       "      <th>2015-05-05</th>\n",
       "      <td>9820.092773</td>\n",
       "      <td>2134800.0</td>\n",
       "    </tr>\n",
       "    <tr>\n",
       "      <th>2015-05-06</th>\n",
       "      <td>9818.163086</td>\n",
       "      <td>2353700.0</td>\n",
       "    </tr>\n",
       "    <tr>\n",
       "      <th>2015-05-07</th>\n",
       "      <td>9704.073242</td>\n",
       "      <td>2315900.0</td>\n",
       "    </tr>\n",
       "  </tbody>\n",
       "</table>\n",
       "</div>"
      ],
      "text/plain": [
       "              Adj Close     Volume\n",
       "Date                              \n",
       "2015-04-30  9820.012695  2644700.0\n",
       "2015-05-04  9845.002930  2298800.0\n",
       "2015-05-05  9820.092773  2134800.0\n",
       "2015-05-06  9818.163086  2353700.0\n",
       "2015-05-07  9704.073242  2315900.0"
      ]
     },
     "execution_count": 76,
     "metadata": {},
     "output_type": "execute_result"
    }
   ],
   "source": [
    "tw_weighted_adjclose_volume.head()"
   ]
  },
  {
   "cell_type": "code",
   "execution_count": 77,
   "metadata": {},
   "outputs": [],
   "source": [
    "sp500 = pd.read_csv('^GSPC.csv',index_col='Date', parse_dates=True) # 2015/04/29 - 2019/04/26"
   ]
  },
  {
   "cell_type": "code",
   "execution_count": 78,
   "metadata": {},
   "outputs": [
    {
     "data": {
      "text/html": [
       "<div>\n",
       "<style scoped>\n",
       "    .dataframe tbody tr th:only-of-type {\n",
       "        vertical-align: middle;\n",
       "    }\n",
       "\n",
       "    .dataframe tbody tr th {\n",
       "        vertical-align: top;\n",
       "    }\n",
       "\n",
       "    .dataframe thead th {\n",
       "        text-align: right;\n",
       "    }\n",
       "</style>\n",
       "<table border=\"1\" class=\"dataframe\">\n",
       "  <thead>\n",
       "    <tr style=\"text-align: right;\">\n",
       "      <th></th>\n",
       "      <th>Open</th>\n",
       "      <th>High</th>\n",
       "      <th>Low</th>\n",
       "      <th>Close</th>\n",
       "      <th>Adj Close</th>\n",
       "      <th>Volume</th>\n",
       "    </tr>\n",
       "    <tr>\n",
       "      <th>Date</th>\n",
       "      <th></th>\n",
       "      <th></th>\n",
       "      <th></th>\n",
       "      <th></th>\n",
       "      <th></th>\n",
       "      <th></th>\n",
       "    </tr>\n",
       "  </thead>\n",
       "  <tbody>\n",
       "    <tr>\n",
       "      <th>2015-04-29</th>\n",
       "      <td>2112.489990</td>\n",
       "      <td>2113.649902</td>\n",
       "      <td>2097.409912</td>\n",
       "      <td>2106.850098</td>\n",
       "      <td>2106.850098</td>\n",
       "      <td>4074970000</td>\n",
       "    </tr>\n",
       "    <tr>\n",
       "      <th>2015-04-30</th>\n",
       "      <td>2105.520020</td>\n",
       "      <td>2105.520020</td>\n",
       "      <td>2077.590088</td>\n",
       "      <td>2085.510010</td>\n",
       "      <td>2085.510010</td>\n",
       "      <td>4509680000</td>\n",
       "    </tr>\n",
       "    <tr>\n",
       "      <th>2015-05-01</th>\n",
       "      <td>2087.379883</td>\n",
       "      <td>2108.409912</td>\n",
       "      <td>2087.379883</td>\n",
       "      <td>2108.290039</td>\n",
       "      <td>2108.290039</td>\n",
       "      <td>3379390000</td>\n",
       "    </tr>\n",
       "    <tr>\n",
       "      <th>2015-05-04</th>\n",
       "      <td>2110.229980</td>\n",
       "      <td>2120.949951</td>\n",
       "      <td>2110.229980</td>\n",
       "      <td>2114.489990</td>\n",
       "      <td>2114.489990</td>\n",
       "      <td>3091580000</td>\n",
       "    </tr>\n",
       "    <tr>\n",
       "      <th>2015-05-05</th>\n",
       "      <td>2112.629883</td>\n",
       "      <td>2115.239990</td>\n",
       "      <td>2088.459961</td>\n",
       "      <td>2089.459961</td>\n",
       "      <td>2089.459961</td>\n",
       "      <td>3793950000</td>\n",
       "    </tr>\n",
       "  </tbody>\n",
       "</table>\n",
       "</div>"
      ],
      "text/plain": [
       "                   Open         High          Low        Close    Adj Close  \\\n",
       "Date                                                                          \n",
       "2015-04-29  2112.489990  2113.649902  2097.409912  2106.850098  2106.850098   \n",
       "2015-04-30  2105.520020  2105.520020  2077.590088  2085.510010  2085.510010   \n",
       "2015-05-01  2087.379883  2108.409912  2087.379883  2108.290039  2108.290039   \n",
       "2015-05-04  2110.229980  2120.949951  2110.229980  2114.489990  2114.489990   \n",
       "2015-05-05  2112.629883  2115.239990  2088.459961  2089.459961  2089.459961   \n",
       "\n",
       "                Volume  \n",
       "Date                    \n",
       "2015-04-29  4074970000  \n",
       "2015-04-30  4509680000  \n",
       "2015-05-01  3379390000  \n",
       "2015-05-04  3091580000  \n",
       "2015-05-05  3793950000  "
      ]
     },
     "execution_count": 78,
     "metadata": {},
     "output_type": "execute_result"
    }
   ],
   "source": [
    "sp500.head()"
   ]
  },
  {
   "cell_type": "code",
   "execution_count": 79,
   "metadata": {},
   "outputs": [],
   "source": [
    "sp500_adjclose_volume = sp500[['Adj Close','Volume']]"
   ]
  },
  {
   "cell_type": "code",
   "execution_count": 80,
   "metadata": {},
   "outputs": [
    {
     "data": {
      "text/html": [
       "<div>\n",
       "<style scoped>\n",
       "    .dataframe tbody tr th:only-of-type {\n",
       "        vertical-align: middle;\n",
       "    }\n",
       "\n",
       "    .dataframe tbody tr th {\n",
       "        vertical-align: top;\n",
       "    }\n",
       "\n",
       "    .dataframe thead th {\n",
       "        text-align: right;\n",
       "    }\n",
       "</style>\n",
       "<table border=\"1\" class=\"dataframe\">\n",
       "  <thead>\n",
       "    <tr style=\"text-align: right;\">\n",
       "      <th></th>\n",
       "      <th>Adj Close</th>\n",
       "      <th>Volume</th>\n",
       "    </tr>\n",
       "    <tr>\n",
       "      <th>Date</th>\n",
       "      <th></th>\n",
       "      <th></th>\n",
       "    </tr>\n",
       "  </thead>\n",
       "  <tbody>\n",
       "    <tr>\n",
       "      <th>2015-04-29</th>\n",
       "      <td>2106.850098</td>\n",
       "      <td>4074970000</td>\n",
       "    </tr>\n",
       "    <tr>\n",
       "      <th>2015-04-30</th>\n",
       "      <td>2085.510010</td>\n",
       "      <td>4509680000</td>\n",
       "    </tr>\n",
       "    <tr>\n",
       "      <th>2015-05-01</th>\n",
       "      <td>2108.290039</td>\n",
       "      <td>3379390000</td>\n",
       "    </tr>\n",
       "    <tr>\n",
       "      <th>2015-05-04</th>\n",
       "      <td>2114.489990</td>\n",
       "      <td>3091580000</td>\n",
       "    </tr>\n",
       "    <tr>\n",
       "      <th>2015-05-05</th>\n",
       "      <td>2089.459961</td>\n",
       "      <td>3793950000</td>\n",
       "    </tr>\n",
       "  </tbody>\n",
       "</table>\n",
       "</div>"
      ],
      "text/plain": [
       "              Adj Close      Volume\n",
       "Date                               \n",
       "2015-04-29  2106.850098  4074970000\n",
       "2015-04-30  2085.510010  4509680000\n",
       "2015-05-01  2108.290039  3379390000\n",
       "2015-05-04  2114.489990  3091580000\n",
       "2015-05-05  2089.459961  3793950000"
      ]
     },
     "execution_count": 80,
     "metadata": {},
     "output_type": "execute_result"
    }
   ],
   "source": [
    "sp500_adjclose_volume.head()"
   ]
  },
  {
   "cell_type": "code",
   "execution_count": 141,
   "metadata": {},
   "outputs": [],
   "source": [
    "newdf = pd.merge(tw_weighted_adjclose_volume, sp500_adjclose_volume, on='Date', how='inner')\n",
    "newdf = newdf.dropna() # drop null value\n",
    "newdf = newdf.drop(newdf.index[940])"
   ]
  },
  {
   "cell_type": "code",
   "execution_count": 143,
   "metadata": {},
   "outputs": [
    {
     "data": {
      "text/html": [
       "<div>\n",
       "<style scoped>\n",
       "    .dataframe tbody tr th:only-of-type {\n",
       "        vertical-align: middle;\n",
       "    }\n",
       "\n",
       "    .dataframe tbody tr th {\n",
       "        vertical-align: top;\n",
       "    }\n",
       "\n",
       "    .dataframe thead th {\n",
       "        text-align: right;\n",
       "    }\n",
       "</style>\n",
       "<table border=\"1\" class=\"dataframe\">\n",
       "  <thead>\n",
       "    <tr style=\"text-align: right;\">\n",
       "      <th></th>\n",
       "      <th>Adj Close_x</th>\n",
       "      <th>Volume_x</th>\n",
       "      <th>Adj Close_y</th>\n",
       "      <th>Volume_y</th>\n",
       "    </tr>\n",
       "    <tr>\n",
       "      <th>Date</th>\n",
       "      <th></th>\n",
       "      <th></th>\n",
       "      <th></th>\n",
       "      <th></th>\n",
       "    </tr>\n",
       "  </thead>\n",
       "  <tbody>\n",
       "    <tr>\n",
       "      <th>2015-04-30</th>\n",
       "      <td>9820.012695</td>\n",
       "      <td>2644700.0</td>\n",
       "      <td>2085.510010</td>\n",
       "      <td>4509680000</td>\n",
       "    </tr>\n",
       "    <tr>\n",
       "      <th>2015-05-04</th>\n",
       "      <td>9845.002930</td>\n",
       "      <td>2298800.0</td>\n",
       "      <td>2114.489990</td>\n",
       "      <td>3091580000</td>\n",
       "    </tr>\n",
       "    <tr>\n",
       "      <th>2015-05-05</th>\n",
       "      <td>9820.092773</td>\n",
       "      <td>2134800.0</td>\n",
       "      <td>2089.459961</td>\n",
       "      <td>3793950000</td>\n",
       "    </tr>\n",
       "    <tr>\n",
       "      <th>2015-05-06</th>\n",
       "      <td>9818.163086</td>\n",
       "      <td>2353700.0</td>\n",
       "      <td>2080.149902</td>\n",
       "      <td>3792210000</td>\n",
       "    </tr>\n",
       "    <tr>\n",
       "      <th>2015-05-07</th>\n",
       "      <td>9704.073242</td>\n",
       "      <td>2315900.0</td>\n",
       "      <td>2088.000000</td>\n",
       "      <td>3676640000</td>\n",
       "    </tr>\n",
       "  </tbody>\n",
       "</table>\n",
       "</div>"
      ],
      "text/plain": [
       "            Adj Close_x   Volume_x  Adj Close_y    Volume_y\n",
       "Date                                                       \n",
       "2015-04-30  9820.012695  2644700.0  2085.510010  4509680000\n",
       "2015-05-04  9845.002930  2298800.0  2114.489990  3091580000\n",
       "2015-05-05  9820.092773  2134800.0  2089.459961  3793950000\n",
       "2015-05-06  9818.163086  2353700.0  2080.149902  3792210000\n",
       "2015-05-07  9704.073242  2315900.0  2088.000000  3676640000"
      ]
     },
     "execution_count": 143,
     "metadata": {},
     "output_type": "execute_result"
    }
   ],
   "source": [
    "newdf.head()"
   ]
  },
  {
   "cell_type": "code",
   "execution_count": 144,
   "metadata": {},
   "outputs": [
    {
     "data": {
      "text/html": [
       "<div>\n",
       "<style scoped>\n",
       "    .dataframe tbody tr th:only-of-type {\n",
       "        vertical-align: middle;\n",
       "    }\n",
       "\n",
       "    .dataframe tbody tr th {\n",
       "        vertical-align: top;\n",
       "    }\n",
       "\n",
       "    .dataframe thead th {\n",
       "        text-align: right;\n",
       "    }\n",
       "</style>\n",
       "<table border=\"1\" class=\"dataframe\">\n",
       "  <thead>\n",
       "    <tr style=\"text-align: right;\">\n",
       "      <th></th>\n",
       "      <th>Adj Close_x</th>\n",
       "      <th>Volume_x</th>\n",
       "      <th>Adj Close_y</th>\n",
       "      <th>Volume_y</th>\n",
       "    </tr>\n",
       "    <tr>\n",
       "      <th>Date</th>\n",
       "      <th></th>\n",
       "      <th></th>\n",
       "      <th></th>\n",
       "      <th></th>\n",
       "    </tr>\n",
       "  </thead>\n",
       "  <tbody>\n",
       "    <tr>\n",
       "      <th>2019-04-18</th>\n",
       "      <td>10962.019531</td>\n",
       "      <td>2.816742e+09</td>\n",
       "      <td>2905.030029</td>\n",
       "      <td>3506850000</td>\n",
       "    </tr>\n",
       "    <tr>\n",
       "      <th>2019-04-22</th>\n",
       "      <td>10987.709961</td>\n",
       "      <td>2.054064e+09</td>\n",
       "      <td>2907.969971</td>\n",
       "      <td>2997950000</td>\n",
       "    </tr>\n",
       "    <tr>\n",
       "      <th>2019-04-23</th>\n",
       "      <td>11025.679688</td>\n",
       "      <td>1.937303e+09</td>\n",
       "      <td>2933.679932</td>\n",
       "      <td>3635030000</td>\n",
       "    </tr>\n",
       "    <tr>\n",
       "      <th>2019-04-24</th>\n",
       "      <td>11027.639648</td>\n",
       "      <td>2.093864e+09</td>\n",
       "      <td>2927.250000</td>\n",
       "      <td>3448960000</td>\n",
       "    </tr>\n",
       "    <tr>\n",
       "      <th>2019-04-25</th>\n",
       "      <td>11039.860352</td>\n",
       "      <td>2.137391e+09</td>\n",
       "      <td>2926.169922</td>\n",
       "      <td>3425280000</td>\n",
       "    </tr>\n",
       "  </tbody>\n",
       "</table>\n",
       "</div>"
      ],
      "text/plain": [
       "             Adj Close_x      Volume_x  Adj Close_y    Volume_y\n",
       "Date                                                           \n",
       "2019-04-18  10962.019531  2.816742e+09  2905.030029  3506850000\n",
       "2019-04-22  10987.709961  2.054064e+09  2907.969971  2997950000\n",
       "2019-04-23  11025.679688  1.937303e+09  2933.679932  3635030000\n",
       "2019-04-24  11027.639648  2.093864e+09  2927.250000  3448960000\n",
       "2019-04-25  11039.860352  2.137391e+09  2926.169922  3425280000"
      ]
     },
     "execution_count": 144,
     "metadata": {},
     "output_type": "execute_result"
    }
   ],
   "source": [
    "newdf.tail()"
   ]
  },
  {
   "cell_type": "code",
   "execution_count": 145,
   "metadata": {},
   "outputs": [],
   "source": [
    "newdf_for_sp500_shifting = pd.merge(tw_weighted_adjclose_volume, sp500_adjclose_volume, on='Date', how='inner')\n",
    "newdf_for_sp500_shifting = newdf_for_sp500_shifting.shift(periods=-1)\n",
    "newdf_for_sp500_shifting = newdf_for_sp500_shifting.dropna() # drop null value"
   ]
  },
  {
   "cell_type": "code",
   "execution_count": 146,
   "metadata": {},
   "outputs": [
    {
     "name": "stdout",
     "output_type": "stream",
     "text": [
      "<class 'pandas.core.frame.DataFrame'>\n",
      "DatetimeIndex: 940 entries, 2015-04-30 to 2019-04-25\n",
      "Data columns (total 4 columns):\n",
      "Adj Close_x    940 non-null float64\n",
      "Volume_x       940 non-null float64\n",
      "Adj Close_y    940 non-null float64\n",
      "Volume_y       940 non-null float64\n",
      "dtypes: float64(4)\n",
      "memory usage: 36.7 KB\n"
     ]
    }
   ],
   "source": [
    "newdf_for_sp500_shifting.info()"
   ]
  },
  {
   "cell_type": "code",
   "execution_count": 147,
   "metadata": {},
   "outputs": [
    {
     "data": {
      "text/html": [
       "<div>\n",
       "<style scoped>\n",
       "    .dataframe tbody tr th:only-of-type {\n",
       "        vertical-align: middle;\n",
       "    }\n",
       "\n",
       "    .dataframe tbody tr th {\n",
       "        vertical-align: top;\n",
       "    }\n",
       "\n",
       "    .dataframe thead th {\n",
       "        text-align: right;\n",
       "    }\n",
       "</style>\n",
       "<table border=\"1\" class=\"dataframe\">\n",
       "  <thead>\n",
       "    <tr style=\"text-align: right;\">\n",
       "      <th></th>\n",
       "      <th>Adj Close_x</th>\n",
       "      <th>Volume_x</th>\n",
       "      <th>Adj Close_y</th>\n",
       "      <th>Volume_y</th>\n",
       "    </tr>\n",
       "    <tr>\n",
       "      <th>Date</th>\n",
       "      <th></th>\n",
       "      <th></th>\n",
       "      <th></th>\n",
       "      <th></th>\n",
       "    </tr>\n",
       "  </thead>\n",
       "  <tbody>\n",
       "    <tr>\n",
       "      <th>2015-04-30</th>\n",
       "      <td>9845.002930</td>\n",
       "      <td>2298800.0</td>\n",
       "      <td>2114.489990</td>\n",
       "      <td>3.091580e+09</td>\n",
       "    </tr>\n",
       "    <tr>\n",
       "      <th>2015-05-04</th>\n",
       "      <td>9820.092773</td>\n",
       "      <td>2134800.0</td>\n",
       "      <td>2089.459961</td>\n",
       "      <td>3.793950e+09</td>\n",
       "    </tr>\n",
       "    <tr>\n",
       "      <th>2015-05-05</th>\n",
       "      <td>9818.163086</td>\n",
       "      <td>2353700.0</td>\n",
       "      <td>2080.149902</td>\n",
       "      <td>3.792210e+09</td>\n",
       "    </tr>\n",
       "    <tr>\n",
       "      <th>2015-05-06</th>\n",
       "      <td>9704.073242</td>\n",
       "      <td>2315900.0</td>\n",
       "      <td>2088.000000</td>\n",
       "      <td>3.676640e+09</td>\n",
       "    </tr>\n",
       "    <tr>\n",
       "      <th>2015-05-07</th>\n",
       "      <td>9691.962891</td>\n",
       "      <td>2012000.0</td>\n",
       "      <td>2116.100098</td>\n",
       "      <td>3.399440e+09</td>\n",
       "    </tr>\n",
       "  </tbody>\n",
       "</table>\n",
       "</div>"
      ],
      "text/plain": [
       "            Adj Close_x   Volume_x  Adj Close_y      Volume_y\n",
       "Date                                                         \n",
       "2015-04-30  9845.002930  2298800.0  2114.489990  3.091580e+09\n",
       "2015-05-04  9820.092773  2134800.0  2089.459961  3.793950e+09\n",
       "2015-05-05  9818.163086  2353700.0  2080.149902  3.792210e+09\n",
       "2015-05-06  9704.073242  2315900.0  2088.000000  3.676640e+09\n",
       "2015-05-07  9691.962891  2012000.0  2116.100098  3.399440e+09"
      ]
     },
     "execution_count": 147,
     "metadata": {},
     "output_type": "execute_result"
    }
   ],
   "source": [
    "newdf_for_sp500_shifting.head()"
   ]
  },
  {
   "cell_type": "code",
   "execution_count": 148,
   "metadata": {},
   "outputs": [
    {
     "data": {
      "text/html": [
       "<div>\n",
       "<style scoped>\n",
       "    .dataframe tbody tr th:only-of-type {\n",
       "        vertical-align: middle;\n",
       "    }\n",
       "\n",
       "    .dataframe tbody tr th {\n",
       "        vertical-align: top;\n",
       "    }\n",
       "\n",
       "    .dataframe thead th {\n",
       "        text-align: right;\n",
       "    }\n",
       "</style>\n",
       "<table border=\"1\" class=\"dataframe\">\n",
       "  <thead>\n",
       "    <tr style=\"text-align: right;\">\n",
       "      <th></th>\n",
       "      <th>Adj Close_x</th>\n",
       "      <th>Volume_x</th>\n",
       "      <th>Adj Close_y</th>\n",
       "      <th>Volume_y</th>\n",
       "    </tr>\n",
       "    <tr>\n",
       "      <th>Date</th>\n",
       "      <th></th>\n",
       "      <th></th>\n",
       "      <th></th>\n",
       "      <th></th>\n",
       "    </tr>\n",
       "  </thead>\n",
       "  <tbody>\n",
       "    <tr>\n",
       "      <th>2019-04-18</th>\n",
       "      <td>10987.709961</td>\n",
       "      <td>2.054064e+09</td>\n",
       "      <td>2907.969971</td>\n",
       "      <td>2.997950e+09</td>\n",
       "    </tr>\n",
       "    <tr>\n",
       "      <th>2019-04-22</th>\n",
       "      <td>11025.679688</td>\n",
       "      <td>1.937303e+09</td>\n",
       "      <td>2933.679932</td>\n",
       "      <td>3.635030e+09</td>\n",
       "    </tr>\n",
       "    <tr>\n",
       "      <th>2019-04-23</th>\n",
       "      <td>11027.639648</td>\n",
       "      <td>2.093864e+09</td>\n",
       "      <td>2927.250000</td>\n",
       "      <td>3.448960e+09</td>\n",
       "    </tr>\n",
       "    <tr>\n",
       "      <th>2019-04-24</th>\n",
       "      <td>11039.860352</td>\n",
       "      <td>2.137391e+09</td>\n",
       "      <td>2926.169922</td>\n",
       "      <td>3.425280e+09</td>\n",
       "    </tr>\n",
       "    <tr>\n",
       "      <th>2019-04-25</th>\n",
       "      <td>10952.469727</td>\n",
       "      <td>2.109398e+09</td>\n",
       "      <td>2939.879883</td>\n",
       "      <td>3.248500e+09</td>\n",
       "    </tr>\n",
       "  </tbody>\n",
       "</table>\n",
       "</div>"
      ],
      "text/plain": [
       "             Adj Close_x      Volume_x  Adj Close_y      Volume_y\n",
       "Date                                                             \n",
       "2019-04-18  10987.709961  2.054064e+09  2907.969971  2.997950e+09\n",
       "2019-04-22  11025.679688  1.937303e+09  2933.679932  3.635030e+09\n",
       "2019-04-23  11027.639648  2.093864e+09  2927.250000  3.448960e+09\n",
       "2019-04-24  11039.860352  2.137391e+09  2926.169922  3.425280e+09\n",
       "2019-04-25  10952.469727  2.109398e+09  2939.879883  3.248500e+09"
      ]
     },
     "execution_count": 148,
     "metadata": {},
     "output_type": "execute_result"
    }
   ],
   "source": [
    "newdf_for_sp500_shifting.tail()"
   ]
  },
  {
   "cell_type": "markdown",
   "metadata": {},
   "source": [
    "### 目標：利用S&P 500的Adj Close當feature，台股大盤加權指數Adj Close當target"
   ]
  },
  {
   "cell_type": "code",
   "execution_count": 169,
   "metadata": {},
   "outputs": [],
   "source": [
    "X = newdf_for_sp500_shifting.iloc[:, 2].values # s&p500 adj close price\n",
    "y = newdf.iloc[:, 0].values # tw weighted index close price"
   ]
  },
  {
   "cell_type": "code",
   "execution_count": 170,
   "metadata": {},
   "outputs": [
    {
     "data": {
      "text/plain": [
       "(940,)"
      ]
     },
     "execution_count": 170,
     "metadata": {},
     "output_type": "execute_result"
    }
   ],
   "source": [
    "X.shape"
   ]
  },
  {
   "cell_type": "code",
   "execution_count": 171,
   "metadata": {},
   "outputs": [
    {
     "data": {
      "text/plain": [
       "(940,)"
      ]
     },
     "execution_count": 171,
     "metadata": {},
     "output_type": "execute_result"
    }
   ],
   "source": [
    "y.shape"
   ]
  },
  {
   "cell_type": "code",
   "execution_count": 172,
   "metadata": {},
   "outputs": [
    {
     "data": {
      "text/plain": [
       "<matplotlib.collections.PathCollection at 0x1a2557f400>"
      ]
     },
     "execution_count": 172,
     "metadata": {},
     "output_type": "execute_result"
    },
    {
     "data": {
      "image/png": "[encoded data removed]",
      "text/plain": [
       "<Figure size 432x288 with 1 Axes>"
      ]
     },
     "metadata": {
      "needs_background": "light"
     },
     "output_type": "display_data"
    }
   ],
   "source": [
    "plt.scatter(X,y)"
   ]
  },
  {
   "cell_type": "code",
   "execution_count": 173,
   "metadata": {},
   "outputs": [],
   "source": [
    "from sklearn.model_selection import train_test_split"
   ]
  },
  {
   "cell_type": "code",
   "execution_count": 174,
   "metadata": {},
   "outputs": [],
   "source": [
    "X_train, X_test, y_train, y_test = train_test_split(X, y, test_size = 0.25, random_state = 0)"
   ]
  },
  {
   "cell_type": "code",
   "execution_count": 175,
   "metadata": {},
   "outputs": [
    {
     "data": {
      "text/plain": [
       "<matplotlib.collections.PathCollection at 0x1a25673c88>"
      ]
     },
     "execution_count": 175,
     "metadata": {},
     "output_type": "execute_result"
    },
    {
     "data": {
      "image/png": "[encoded data removed]",
      "text/plain": [
       "<Figure size 432x288 with 1 Axes>"
      ]
     },
     "metadata": {
      "needs_background": "light"
     },
     "output_type": "display_data"
    }
   ],
   "source": [
    "plt.scatter(X_train, y_train)"
   ]
  },
  {
   "cell_type": "code",
   "execution_count": 176,
   "metadata": {},
   "outputs": [
    {
     "data": {
      "text/plain": [
       "LinearRegression(copy_X=True, fit_intercept=True, n_jobs=None,\n",
       "         normalize=False)"
      ]
     },
     "execution_count": 176,
     "metadata": {},
     "output_type": "execute_result"
    }
   ],
   "source": [
    "# Fitting Lineaer Regressioin to the dataset\n",
    "from sklearn.linear_model import LinearRegression\n",
    "lin_reg = LinearRegression()\n",
    "X_train = X_train.reshape(-1,1)\n",
    "lin_reg.fit(X_train, y_train)"
   ]
  },
  {
   "cell_type": "code",
   "execution_count": 177,
   "metadata": {},
   "outputs": [],
   "source": [
    "from sklearn.preprocessing import PolynomialFeatures\n",
    "from sklearn.pipeline import Pipeline\n",
    "poly = PolynomialFeatures(degree=2)\n",
    "pipeline = Pipeline(\n",
    "    [('poly', poly),('lin reg', lin_reg)]\n",
    ")"
   ]
  },
  {
   "cell_type": "code",
   "execution_count": 178,
   "metadata": {},
   "outputs": [
    {
     "data": {
      "text/plain": [
       "Pipeline(memory=None,\n",
       "     steps=[('poly', PolynomialFeatures(degree=2, include_bias=True, interaction_only=False)), ('lin reg', LinearRegression(copy_X=True, fit_intercept=True, n_jobs=None,\n",
       "         normalize=False))])"
      ]
     },
     "execution_count": 178,
     "metadata": {},
     "output_type": "execute_result"
    }
   ],
   "source": [
    "pipeline.fit(X_train,y_train)"
   ]
  },
  {
   "cell_type": "markdown",
   "metadata": {},
   "source": [
    "### 利用S&P 500 polynomial (degree=2) 估計台股大盤指數"
   ]
  },
  {
   "cell_type": "code",
   "execution_count": 179,
   "metadata": {},
   "outputs": [],
   "source": [
    "X_test = X_test.reshape(-1,1)\n",
    "y_pred_2 = pipeline.predict(X_test)"
   ]
  },
  {
   "cell_type": "code",
   "execution_count": 189,
   "metadata": {},
   "outputs": [
    {
     "data": {
      "text/plain": [
       "Text(0, 0.5, 'TW weighted Index')"
      ]
     },
     "execution_count": 189,
     "metadata": {},
     "output_type": "execute_result"
    },
    {
     "data": {
      "image/png": "[encoded data removed]",
      "text/plain": [
       "<Figure size 432x288 with 1 Axes>"
      ]
     },
     "metadata": {
      "needs_background": "light"
     },
     "output_type": "display_data"
    }
   ],
   "source": [
    "plt.scatter(X_test, y_test)\n",
    "plt.scatter(X_test, y_pred_2)\n",
    "plt.xlabel('S&P 500')\n",
    "plt.ylabel('TW weighted Index')"
   ]
  },
  {
   "cell_type": "code",
   "execution_count": 190,
   "metadata": {},
   "outputs": [
    {
     "name": "stdout",
     "output_type": "stream",
     "text": [
      "Prediction score: 0.86507832680842\n"
     ]
    }
   ],
   "source": [
    "print('Prediction score:', pipeline.score(X_train, y_train))"
   ]
  },
  {
   "cell_type": "code",
   "execution_count": 191,
   "metadata": {},
   "outputs": [],
   "source": [
    "from sklearn.metrics import explained_variance_score"
   ]
  },
  {
   "cell_type": "code",
   "execution_count": 192,
   "metadata": {},
   "outputs": [
    {
     "data": {
      "text/plain": [
       "0.8610336096636493"
      ]
     },
     "execution_count": 192,
     "metadata": {},
     "output_type": "execute_result"
    }
   ],
   "source": [
    "explained_variance_score(y_test, y_pred_2)"
   ]
  },
  {
   "cell_type": "code",
   "execution_count": 193,
   "metadata": {},
   "outputs": [],
   "source": [
    "from sklearn.metrics import r2_score"
   ]
  },
  {
   "cell_type": "code",
   "execution_count": 194,
   "metadata": {},
   "outputs": [
    {
     "data": {
      "text/plain": [
       "0.8610126884893277"
      ]
     },
     "execution_count": 194,
     "metadata": {},
     "output_type": "execute_result"
    }
   ],
   "source": [
    "r2_score(y_test, y_pred_2)"
   ]
  },
  {
   "cell_type": "code",
   "execution_count": null,
   "metadata": {},
   "outputs": [],
   "source": []
  }
 ],
 "metadata": {
  "kernelspec": {
   "display_name": "Python 3",
   "language": "python",
   "name": "python3"
  },
  "language_info": {
   "codemirror_mode": {
    "name": "ipython",
    "version": 3
   },
   "file_extension": ".py",
   "mimetype": "text/x-python",
   "name": "python",
   "nbconvert_exporter": "python",
   "pygments_lexer": "ipython3",
   "version": "3.7.1"
  }
 },
 "nbformat": 4,
 "nbformat_minor": 2
}
