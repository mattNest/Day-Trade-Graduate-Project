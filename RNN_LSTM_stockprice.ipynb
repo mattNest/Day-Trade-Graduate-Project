{
 "cells": [
  {
   "cell_type": "code",
   "execution_count": 1,
   "metadata": {},
   "outputs": [],
   "source": [
    "import datetime as dt\n",
    "import numpy as np\n",
    "import pandas as pd\n",
    "import numpy as np\n",
    "import matplotlib.pyplot as plt\n",
    "plt.style.use('ggplot')\n",
    "%matplotlib inline"
   ]
  },
  {
   "cell_type": "code",
   "execution_count": 2,
   "metadata": {},
   "outputs": [],
   "source": [
    "tw_weighted = pd.read_csv('^TWII_1997_2019.csv', index_col='Date', parse_dates=True)"
   ]
  },
  {
   "cell_type": "code",
   "execution_count": 3,
   "metadata": {},
   "outputs": [
    {
     "data": {
      "text/plain": [
       "(5516, 6)"
      ]
     },
     "execution_count": 3,
     "metadata": {},
     "output_type": "execute_result"
    }
   ],
   "source": [
    "tw_weighted.shape"
   ]
  },
  {
   "cell_type": "code",
   "execution_count": 4,
   "metadata": {},
   "outputs": [
    {
     "data": {
      "text/html": [
       "<div>\n",
       "<style scoped>\n",
       "    .dataframe tbody tr th:only-of-type {\n",
       "        vertical-align: middle;\n",
       "    }\n",
       "\n",
       "    .dataframe tbody tr th {\n",
       "        vertical-align: top;\n",
       "    }\n",
       "\n",
       "    .dataframe thead th {\n",
       "        text-align: right;\n",
       "    }\n",
       "</style>\n",
       "<table border=\"1\" class=\"dataframe\">\n",
       "  <thead>\n",
       "    <tr style=\"text-align: right;\">\n",
       "      <th></th>\n",
       "      <th>Open</th>\n",
       "      <th>High</th>\n",
       "      <th>Low</th>\n",
       "      <th>Close</th>\n",
       "      <th>Adj Close</th>\n",
       "      <th>Volume</th>\n",
       "    </tr>\n",
       "    <tr>\n",
       "      <th>Date</th>\n",
       "      <th></th>\n",
       "      <th></th>\n",
       "      <th></th>\n",
       "      <th></th>\n",
       "      <th></th>\n",
       "      <th></th>\n",
       "    </tr>\n",
       "  </thead>\n",
       "  <tbody>\n",
       "    <tr>\n",
       "      <th>1997-07-02</th>\n",
       "      <td>9094.269531</td>\n",
       "      <td>9124.299805</td>\n",
       "      <td>8988.129883</td>\n",
       "      <td>8996.719727</td>\n",
       "      <td>8996.686523</td>\n",
       "      <td>0.0</td>\n",
       "    </tr>\n",
       "    <tr>\n",
       "      <th>1997-07-03</th>\n",
       "      <td>9061.599609</td>\n",
       "      <td>9061.599609</td>\n",
       "      <td>8997.509766</td>\n",
       "      <td>9027.629883</td>\n",
       "      <td>9027.596680</td>\n",
       "      <td>0.0</td>\n",
       "    </tr>\n",
       "    <tr>\n",
       "      <th>1997-07-04</th>\n",
       "      <td>9144.959961</td>\n",
       "      <td>9218.209961</td>\n",
       "      <td>9119.250000</td>\n",
       "      <td>9192.570313</td>\n",
       "      <td>9192.536133</td>\n",
       "      <td>0.0</td>\n",
       "    </tr>\n",
       "    <tr>\n",
       "      <th>1997-07-07</th>\n",
       "      <td>9365.190430</td>\n",
       "      <td>9370.410156</td>\n",
       "      <td>9304.820313</td>\n",
       "      <td>9322.839844</td>\n",
       "      <td>9322.805664</td>\n",
       "      <td>0.0</td>\n",
       "    </tr>\n",
       "    <tr>\n",
       "      <th>1997-07-08</th>\n",
       "      <td>9345.549805</td>\n",
       "      <td>9371.500000</td>\n",
       "      <td>9282.099609</td>\n",
       "      <td>9305.269531</td>\n",
       "      <td>9305.235352</td>\n",
       "      <td>0.0</td>\n",
       "    </tr>\n",
       "  </tbody>\n",
       "</table>\n",
       "</div>"
      ],
      "text/plain": [
       "                   Open         High          Low        Close    Adj Close  \\\n",
       "Date                                                                          \n",
       "1997-07-02  9094.269531  9124.299805  8988.129883  8996.719727  8996.686523   \n",
       "1997-07-03  9061.599609  9061.599609  8997.509766  9027.629883  9027.596680   \n",
       "1997-07-04  9144.959961  9218.209961  9119.250000  9192.570313  9192.536133   \n",
       "1997-07-07  9365.190430  9370.410156  9304.820313  9322.839844  9322.805664   \n",
       "1997-07-08  9345.549805  9371.500000  9282.099609  9305.269531  9305.235352   \n",
       "\n",
       "            Volume  \n",
       "Date                \n",
       "1997-07-02     0.0  \n",
       "1997-07-03     0.0  \n",
       "1997-07-04     0.0  \n",
       "1997-07-07     0.0  \n",
       "1997-07-08     0.0  "
      ]
     },
     "execution_count": 4,
     "metadata": {},
     "output_type": "execute_result"
    }
   ],
   "source": [
    "tw_weighted.head()"
   ]
  },
  {
   "cell_type": "code",
   "execution_count": 5,
   "metadata": {},
   "outputs": [],
   "source": [
    "#data cleaning\n",
    "tw_weighted = tw_weighted.dropna() \n",
    "\n",
    "from sklearn.preprocessing import MinMaxScaler\n",
    "from sklearn.model_selection import train_test_split\n",
    "training_cols = [\"Open\",\"High\",\"Low\",\"Close\",\"Ad Close\",\"Volume\"]\n",
    "df_train, df_test = train_test_split()"
   ]
  },
  {
   "cell_type": "code",
   "execution_count": null,
   "metadata": {},
   "outputs": [],
   "source": []
  }
 ],
 "metadata": {
  "kernelspec": {
   "display_name": "Python 3",
   "language": "python",
   "name": "python3"
  },
  "language_info": {
   "codemirror_mode": {
    "name": "ipython",
    "version": 3
   },
   "file_extension": ".py",
   "mimetype": "text/x-python",
   "name": "python",
   "nbconvert_exporter": "python",
   "pygments_lexer": "ipython3",
   "version": "3.7.3"
  }
 },
 "nbformat": 4,
 "nbformat_minor": 2
}
